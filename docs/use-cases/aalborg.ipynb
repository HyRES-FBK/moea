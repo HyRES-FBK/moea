{
 "cells": [
  {
   "cell_type": "markdown",
   "metadata": {},
   "source": [
    "# Energy scenario design in Aalborg\n",
    "\n",
    "Author: Michele Urbani ([murbani@fbk.eu](mailto:murbani@fbk.eu))\n",
    "Date: 15th October, 2024\n",
    "\n",
    "The research presented in {cite:p}`MAHBUB2016140` is replicated here to\n",
    "showcase the functionality of the MOEA package.\n",
    "\n",
    "MOEA is based on [PyMOO](https://pymoo.org/) for the implementation of the multi-objective\n",
    "evolutionary algorithm and on EnergyPLAN for the energy scenario modeling.\n",
    "\n",
    "PyMOO breaks down multi-objective optimization into the following steps.\n",
    "\n",
    "1. **Model description**: the optimization models must be encoded in a PyMOO\n",
    "``Problem`` class, or one of its subclasses ``ElementwiseProblem``, etc.\n",
    "\n",
    "    1. The ``Problem`` class required to declare a set of high level problem\n",
    "    information, such as the number of variables, objective, inequality\n",
    "    constraints, and equality constraints.\n",
    "    2. The objective function evaluation procedure, which in our case calls\n",
    "    EnergyPLAN to resolve the instances defined by the solutions found by the\n",
    "    algorithm. The output values are then read, and eventually postprocessed,\n",
    "    and provided to the algorithm together with constraint violations.\n",
    "\n",
    "2. **Algorithm declaration**: in this case the standard NSGA-II is used.\n",
    "3. **Resolution**: the utility function ``minimize`` is used to optimize the\n",
    "problem. \n",
    "\n",
    "## Problem declaration\n",
    "\n",
    "The words problem and model are use interchangeably here.\n",
    "In the following, the Aalborg model is explained in details to show an example\n",
    "of problem declarations.\n",
    "To avoid declaring the model twice, the class is declared in\n",
    "``moea.models.aalborg.AalborgA`` and the code is print here with further\n",
    "comments."
   ]
  },
  {
   "cell_type": "code",
   "execution_count": 17,
   "metadata": {},
   "outputs": [
    {
     "name": "stderr",
     "output_type": "stream",
     "text": [
      "\u001b[32m2024-10-22 14:05:31.965\u001b[0m | \u001b[1mINFO    \u001b[0m | \u001b[36mmoea.config\u001b[0m:\u001b[36m<module>\u001b[0m:\u001b[36m11\u001b[0m - \u001b[1mPROJ_ROOT path is: C:\\Users\\Urbani\\moea\u001b[0m\n"
     ]
    }
   ],
   "source": [
    "import inspect\n",
    "from IPython.display import display, Markdown\n",
    "\n",
    "from moea.models import get_model\n",
    "from moea.algorithms import get_algorithm\n",
    "\n",
    "model_name = 'AalborgA'\n",
    "algorithm_name = 'NSGA-II'\n",
    "\n",
    "model = get_model(model_name)\n",
    "algorithm = get_algorithm(algorithm_name, pop_size=100)"
   ]
  },
  {
   "cell_type": "markdown",
   "metadata": {},
   "source": [
    "The following cell shows the code used for initializing the model.\n",
    "\n",
    "The only parameter that can be provided is ``data_file``, i.e., the path to the\n",
    "default EnergyPLAN input data. The default value for this variable is already\n",
    "set to ensure reproducibility of the research.\n",
    "\n",
    "Input variables are defined as a pandas DataFrame: each row corresponds to a\n",
    "variable, whose index is the variable name in EnergyPLAN, and the columns\n",
    "``lb`` and ``ub`` correspond to the lower and upper bound of the variable,\n",
    "respectively.\n",
    "\n",
    "Later, the parent class is initialized with ``super().__init__()``. This method\n",
    "requires problem infomation, such as the number of variables, the number of\n",
    "(in)equality constraints, the number of objectives, and the upper and lower\n",
    "bounds.\n",
    "Decision variable are assumed to be real numbers.\n",
    "\n",
    "Even though it is not visible in the code below, the class inherits from the\n",
    "``moea.models.base_model.BaseModel`` class."
   ]
  },
  {
   "cell_type": "code",
   "execution_count": 18,
   "metadata": {},
   "outputs": [
    {
     "data": {
      "text/markdown": [
       "```python\n",
       "    def __init__(self,\n",
       "                 data_file: Union[str, Path] = \"Aalborg2050_2objectives.txt\",\n",
       "                 **kwargs):\n",
       "        \"\"\"\n",
       "        Parameters:\n",
       "        -----------\n",
       "        - ``data_file``: str or Path\n",
       "\n",
       "            The path to the input file. This file is used as a template to\n",
       "            generate the input files for each individual.\n",
       "            The values will be replaced by the values of the decision variables\n",
       "            when generating the input files.\n",
       "        \"\"\"\n",
       "        # Define the input variables.\n",
       "        self.vars = pd.DataFrame.from_dict({\n",
       "            'input_cap_chp3_el': {'lb':0, 'ub': 1000},\n",
       "            'input_cap_hp3_el': {'lb':0, 'ub': 1000},\n",
       "            'input_cap_pp_el': {'lb': 0, 'ub': 1000},\n",
       "            'input_RES1_capacity': {'lb': 0, 'ub': 1500},\n",
       "            'input_RES2_capacity': {'lb': 0, 'ub': 1500},\n",
       "            'input_RES3_capacity': {'lb': 0, 'ub': 1500},\n",
       "            'input_cap_boiler3_th': {'lb': 0, 'ub': 10000},\n",
       "        }, dtype=float, orient='index')\n",
       "\n",
       "        # Initialize the parent class\n",
       "        super().__init__(\n",
       "            n_var=len(self.vars),\n",
       "            n_ieq_constr=3,\n",
       "            n_obj=2,\n",
       "            xl=self.vars['lb'].values,\n",
       "            xu=self.vars['ub'].values,\n",
       "            data_file=data_file,\n",
       "            **kwargs\n",
       "        )\n",
       "```"
      ],
      "text/plain": [
       "<IPython.core.display.Markdown object>"
      ]
     },
     "metadata": {},
     "output_type": "display_data"
    }
   ],
   "source": [
    "# Print models class __init__ code\n",
    "init_code = inspect.getsource(model.__init__)\n",
    "display(Markdown(\"```python\\n\" + init_code + \"```\"))"
   ]
  },
  {
   "cell_type": "markdown",
   "metadata": {},
   "source": [
    "The evalutation method is the core of the objective function calculation.\n",
    "\n",
    "The ``_evaluate`` method does not return a value but it expects you to set a\n",
    "value for, at the least, the ``out[\"F\"]`` value of the ``out`` dictionary.\n",
    "This must be a numpy array, whos size is $N_{solutions} \\times N_{objectives}$.\n",
    "\n",
    "The dictionary values ``\"G\"`` and ``\"H\"`` can be used to declare the left-hand\n",
    "side of inequalities and equalities constraints, respectively.\n",
    "These arrays must have size $N_{solutoins} \\times N_{constraints}$."
   ]
  },
  {
   "cell_type": "code",
   "execution_count": 19,
   "metadata": {},
   "outputs": [
    {
     "data": {
      "text/markdown": [
       "```python\n",
       "    def _evaluate(self, x, out, *args, **kwargs):\n",
       "        \"\"\"\n",
       "        This function defines the evaluation of the problem. That is, the\n",
       "        objective function and constraints are evaluated here. The objective\n",
       "        function evaluation consists of a call to EnergyPLAN. Since the problem\n",
       "        is unconstrained, the constraints are not evaluated.\n",
       "\n",
       "        \"\"\"\n",
       "        # Dump the full list of variables to a file\n",
       "        for i, ind in enumerate(x):\n",
       "            dump_input({k: ind[j] for j, k in enumerate(self.vars.index)}, i,\n",
       "            self.default_data)\n",
       "\n",
       "        # Call EnergyPLAN using spool mode; only the input files are needed\n",
       "        execute_energyplan_spool([f\"input{i}.txt\" for i in range(len(x))])\n",
       "\n",
       "        # The label for the monthly values\n",
       "        montly_lbl = 'MONTHLY AVERAGE VALUES (MW)'\n",
       "\n",
       "        # Parse the output file and store the objective function value in an\n",
       "        # array\n",
       "        out[\"F\"] = find_values(\n",
       "            ENERGYPLAN_RESULTS,\n",
       "            \"CO2-emission (corrected)\",\n",
       "            \"TOTAL ANNUAL COSTS\",\n",
       "        )\n",
       "\n",
       "        # CONSTRAINTS\n",
       "        # Since there are a fes constraints, we evaluate the left-hand side\n",
       "        # of the constraints and store the values in out[\"G\"].\n",
       "\n",
       "        # Read and store the values of interest into arrays\n",
       "        import_elec, heat, stable_load = [], [], []\n",
       "        for res in ENERGYPLAN_RESULTS.glob(\"*.txt\"):\n",
       "            # Parse the output file\n",
       "            D = parse_output(res)\n",
       "            # Results are organized as dictionary, one for each section, and\n",
       "            # each value is a pandas DataFrame\n",
       "            # Retrieve import\n",
       "            import_elec.append(\n",
       "                float(D[montly_lbl]['Import Electr.']['Annual Maximum']))\n",
       "            # Retrieve Balance3 heat\n",
       "            heat.append(\n",
       "                float(D['TOTAL FOR ONE YEAR (TWh/year)']['Balance3  Heat']))\n",
       "            # Retrieve stabilized load percentage\n",
       "            stable_load.append(\n",
       "                float(D[montly_lbl]['Stabil. Load']['Annual Minimum']))\n",
       "\n",
       "        # Transmission line capacity of export/import: 160 MW. This constraint\n",
       "        # enforces the system to produce enough electricity so that it does not\n",
       "        # require to import more than 160 MW.\n",
       "        import_constr = np.array(import_elec) - 160\n",
       "\n",
       "        # Heat balance. This constraint enforces the system to produce exactly\n",
       "        # the amount of heat necessary to meet the heat demand.\n",
       "        heat = np.array(heat)\n",
       "\n",
       "        # Grid stabilization: More than 30% of power production in all hours\n",
       "        # must come from units able to supply grid support (see [77] for\n",
       "        # details on grid stability in EnergyPLAN).\n",
       "        # This constraint is already taken into account by EnergyPLAN so we\n",
       "        # just need to subtract the value from 100 to have a constraint that\n",
       "        # is satisfied when the value is positive.\n",
       "        stable_load = 100 - np.array(stable_load)\n",
       "\n",
       "        out[\"G\"] = np.column_stack([\n",
       "            import_constr,\n",
       "            stable_load,\n",
       "            heat,\n",
       "        ])\n",
       "```"
      ],
      "text/plain": [
       "<IPython.core.display.Markdown object>"
      ]
     },
     "metadata": {},
     "output_type": "display_data"
    }
   ],
   "source": [
    "eval_code = inspect.getsource(model._evaluate)\n",
    "display(Markdown(\"```python\\n\" + eval_code + \"```\"))"
   ]
  },
  {
   "cell_type": "markdown",
   "metadata": {},
   "source": [
    "## Problem resolution\n",
    "\n",
    "The utility function ``minimize`` is the default way to run an algorithm on a\n",
    "problem of your choice.\n",
    "It requires to pass the model variable, i.e., the variable to which the model\n",
    "has been assigned, the algorithm, and a stopping criterion.\n",
    "Optionally, a ``seed`` value can be provided, which enables replicability of\n",
    "results, and ``verbose`` can be set to ``True`` to visualize runtime infomrmation.\n",
    "\n",
    "The ``minimize`` function returns an objects storing results. Below, we show\n",
    "how to extract some quantities of interest and plot them."
   ]
  },
  {
   "cell_type": "code",
   "execution_count": null,
   "metadata": {},
   "outputs": [],
   "source": [
    "from pymoo.optimize import minimize\n",
    "\n",
    "res = minimize(\n",
    "    model,\n",
    "    algorithm,\n",
    "    ('n_gen', 50),\n",
    "    seed=4395,\n",
    "    verbose=True\n",
    ")"
   ]
  },
  {
   "cell_type": "markdown",
   "metadata": {},
   "source": [
    "### Convergence analysis\n",
    "\n",
    "To check the convergence of results, we use the hyper-volume (HV) index.\n",
    "The HV index is normalized in the $[0, 1]$ range, the closed to one, the larger\n",
    "the area covered by the Pareto front and the better the results.\n",
    "When looking for an indication of convergence, the HV value should stabilize\n",
    "with the number of generations."
   ]
  },
  {
   "cell_type": "markdown",
   "metadata": {},
   "source": [
    "## Results analysis"
   ]
  },
  {
   "cell_type": "code",
   "execution_count": 16,
   "metadata": {},
   "outputs": [
    {
     "data": {
      "image/png": "[encoded data removed]",
      "text/plain": [
       "<Figure size 640x480 with 1 Axes>"
      ]
     },
     "metadata": {},
     "output_type": "display_data"
    },
    {
     "data": {
      "text/html": [
       "<div>\n",
       "<style scoped>\n",
       "    .dataframe tbody tr th:only-of-type {\n",
       "        vertical-align: middle;\n",
       "    }\n",
       "\n",
       "    .dataframe tbody tr th {\n",
       "        vertical-align: top;\n",
       "    }\n",
       "\n",
       "    .dataframe thead th {\n",
       "        text-align: right;\n",
       "    }\n",
       "</style>\n",
       "<table border=\"1\" class=\"dataframe\">\n",
       "  <thead>\n",
       "    <tr style=\"text-align: right;\">\n",
       "      <th></th>\n",
       "      <th>CO2 [Mton]</th>\n",
       "      <th>Cost [M DKK]</th>\n",
       "    </tr>\n",
       "  </thead>\n",
       "  <tbody>\n",
       "    <tr>\n",
       "      <th>0</th>\n",
       "      <td>-0.566</td>\n",
       "      <td>5987.0</td>\n",
       "    </tr>\n",
       "    <tr>\n",
       "      <th>1</th>\n",
       "      <td>0.625</td>\n",
       "      <td>2832.0</td>\n",
       "    </tr>\n",
       "    <tr>\n",
       "      <th>2</th>\n",
       "      <td>0.625</td>\n",
       "      <td>2832.0</td>\n",
       "    </tr>\n",
       "    <tr>\n",
       "      <th>3</th>\n",
       "      <td>-0.339</td>\n",
       "      <td>3598.0</td>\n",
       "    </tr>\n",
       "    <tr>\n",
       "      <th>4</th>\n",
       "      <td>-0.370</td>\n",
       "      <td>3683.0</td>\n",
       "    </tr>\n",
       "    <tr>\n",
       "      <th>...</th>\n",
       "      <td>...</td>\n",
       "      <td>...</td>\n",
       "    </tr>\n",
       "    <tr>\n",
       "      <th>95</th>\n",
       "      <td>-0.026</td>\n",
       "      <td>3255.0</td>\n",
       "    </tr>\n",
       "    <tr>\n",
       "      <th>96</th>\n",
       "      <td>-0.098</td>\n",
       "      <td>3302.0</td>\n",
       "    </tr>\n",
       "    <tr>\n",
       "      <th>97</th>\n",
       "      <td>-0.433</td>\n",
       "      <td>3905.0</td>\n",
       "    </tr>\n",
       "    <tr>\n",
       "      <th>98</th>\n",
       "      <td>-0.207</td>\n",
       "      <td>3397.0</td>\n",
       "    </tr>\n",
       "    <tr>\n",
       "      <th>99</th>\n",
       "      <td>-0.328</td>\n",
       "      <td>3573.0</td>\n",
       "    </tr>\n",
       "  </tbody>\n",
       "</table>\n",
       "<p>100 rows × 2 columns</p>\n",
       "</div>"
      ],
      "text/plain": [
       "    CO2 [Mton]  Cost [M DKK]\n",
       "0       -0.566        5987.0\n",
       "1        0.625        2832.0\n",
       "2        0.625        2832.0\n",
       "3       -0.339        3598.0\n",
       "4       -0.370        3683.0\n",
       "..         ...           ...\n",
       "95      -0.026        3255.0\n",
       "96      -0.098        3302.0\n",
       "97      -0.433        3905.0\n",
       "98      -0.207        3397.0\n",
       "99      -0.328        3573.0\n",
       "\n",
       "[100 rows x 2 columns]"
      ]
     },
     "execution_count": 16,
     "metadata": {},
     "output_type": "execute_result"
    }
   ],
   "source": [
    "import pandas as pd\n",
    "import matplotlib.pyplot as plt\n",
    "\n",
    "# Get the pareto-front\n",
    "F = res.F\n",
    "\n",
    "# Load reference data from the paper, no index column and space separated\n",
    "ref = pd.read_csv('aalborg-reference.csv', sep=' ', header=None,\n",
    "                  names=['CO2 [Mton]', 'Cost [M DKK]'],\n",
    "                  index_col=False)\n",
    "\n",
    "# Plot the pareto-front\n",
    "plt.scatter(F[:,0], F[:,1], label='AalborgA')\n",
    "plt.scatter(ref.values[:,0], ref.values[:,1], label='Reference')\n",
    "plt.xlabel('CO$_2$ [Mton]')\n",
    "plt.ylabel('Cost [M DKK]')\n",
    "plt.title('Reference vs. MOEA')\n",
    "plt.grid()\n",
    "plt.legend()\n",
    "\n",
    "plt.show()"
   ]
  },
  {
   "cell_type": "markdown",
   "metadata": {},
   "source": [
    "## References\n",
    "\n",
    "```{bibliography}\n",
    ":style: unsrt\n",
    "```"
   ]
  }
 ],
 "metadata": {
  "kernelspec": {
   "display_name": "moea",
   "language": "python",
   "name": "python3"
  },
  "language_info": {
   "codemirror_mode": {
    "name": "ipython",
    "version": 3
   },
   "file_extension": ".py",
   "mimetype": "text/x-python",
   "name": "python",
   "nbconvert_exporter": "python",
   "pygments_lexer": "ipython3",
   "version": "3.10.15"
  }
 },
 "nbformat": 4,
 "nbformat_minor": 2
}
