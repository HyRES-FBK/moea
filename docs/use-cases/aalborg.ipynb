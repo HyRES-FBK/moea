{
 "cells": [
  {
   "cell_type": "markdown",
   "metadata": {},
   "source": [
    "# Energy scenario design in Aalborg\n",
    "\n",
    "Author: Michele Urbani ([murbani@fbk.eu](mailto:murbani@fbk.eu))\n",
    "Date: 7th February, 2025\n",
    "\n",
    "The research presented in {cite:p}`MAHBUB2016140` is replicated here to\n",
    "show how the MOEA package works.\n",
    "\n",
    "MOEA is based on the [PyMOO](https://pymoo.org/) package for the implementation\n",
    "of the multi-objective evolutionary algorithms (MOEA) and on EnergyPLAN\n",
    "for the energy scenario modeling.\n",
    "\n",
    "PyMOO breaks down multi-objective optimization into the following steps.\n",
    "\n",
    "1. **Model description**: the optimization models must be encoded in a PyMOO\n",
    "``Problem`` class, or one of its subclasses, e.g., ``ElementwiseProblem``, etc.\n",
    "\n",
    "    1. The ``Problem`` class required to declare a set of high level problem\n",
    "    information, such as the number of variables, objective, inequality\n",
    "    constraints, and equality constraints.\n",
    "    2. The objective function evaluation procedure, which in our case calls\n",
    "    EnergyPLAN to resolve the instances defined by the solutions found by the\n",
    "    algorithm. The output values are then read, and eventually postprocessed,\n",
    "    and provided to the algorithm together with constraint violations.\n",
    "\n",
    "2. **Algorithm declaration**: in this case the standard NSGA-II is used.\n",
    "3. **Resolution**: the utility function ``minimize`` is used to optimize the\n",
    "problem.\n",
    "\n",
    "## Problem declaration\n",
    "\n",
    "The words problem and model are use interchangeably here.\n",
    "In the following, the Aalborg model is explained in details to show an example\n",
    "of problem declarations.\n",
    "To avoid declaring the model twice, the class is declared in\n",
    "``moea.models.aalborg.AalborgA`` and the code is print here with further\n",
    "comments."
   ]
  },
  {
   "cell_type": "code",
   "execution_count": 1,
   "metadata": {},
   "outputs": [
    {
     "name": "stderr",
     "output_type": "stream",
     "text": [
      "\u001b[32m2025-02-06 17:34:11.790\u001b[0m | \u001b[1mINFO    \u001b[0m | \u001b[36mmoea.config\u001b[0m:\u001b[36m<module>\u001b[0m:\u001b[36m11\u001b[0m - \u001b[1mPROJ_ROOT path is: C:\\Users\\murbani\\moea\u001b[0m\n"
     ]
    }
   ],
   "source": [
    "import inspect\n",
    "from IPython.display import display, Markdown\n",
    "\n",
    "from pymoo.optimize import minimize\n",
    "\n",
    "from moea.models import get_model\n",
    "from moea.algorithms import get_algorithm\n"
   ]
  },
  {
   "cell_type": "code",
   "execution_count": 2,
   "metadata": {},
   "outputs": [],
   "source": [
    "model_name = 'AalborgB'\n",
    "model = get_model(model_name)"
   ]
  },
  {
   "cell_type": "markdown",
   "metadata": {},
   "source": [
    "The following cell shows the code used for initializing the model.\n",
    "\n",
    "The only parameter that can be provided is ``data_file``, i.e., the path to the\n",
    "default EnergyPLAN input data. The default value for this variable is already\n",
    "set to ensure reproducibility of the research.\n",
    "\n",
    "Input variables are defined as a pandas DataFrame: each row corresponds to a\n",
    "variable, whose index is the variable name in EnergyPLAN, and the columns\n",
    "``lb`` and ``ub`` correspond to the lower and upper bound of the variable,\n",
    "respectively.\n",
    "\n",
    "Later, the parent class is initialized with ``super().__init__()``. This method\n",
    "requires problem infomation, such as the number of variables, the number of\n",
    "(in)equality constraints, the number of objectives, and the upper and lower\n",
    "bounds.\n",
    "Decision variable are assumed to be real numbers.\n",
    "\n",
    "Even though it is not visible in the code below, the class inherits from the\n",
    "``moea.models.base_model.BaseModel`` class."
   ]
  },
  {
   "cell_type": "code",
   "execution_count": 2,
   "metadata": {},
   "outputs": [
    {
     "data": {
      "text/markdown": [
       "```python\n",
       "    def __init__(self,\n",
       "                 data_file: Union[str, Path] = \"Aalborg2050_2objectives.txt\",\n",
       "                 **kwargs):\n",
       "        \"\"\"\n",
       "        Parameters:\n",
       "        -----------\n",
       "        - ``data_file``: str or Path\n",
       "\n",
       "            The path to the input file. This file is used as a template to\n",
       "            generate the input files for each individual.\n",
       "            The values will be replaced by the values of the decision variables\n",
       "            when generating the input files.\n",
       "        \"\"\"\n",
       "        # Define the input variables.\n",
       "        self.vars = pd.DataFrame.from_dict({\n",
       "            'input_cap_chp3_el': \\\n",
       "                {'lb':0, 'ub': 1000, \"dk0\": True, \"dk1\": False},\n",
       "            'input_cap_hp3_el': \\\n",
       "                {'lb':0, 'ub': 1000, \"dk0\": True, \"dk1\": False},\n",
       "            'input_cap_pp_el': \\\n",
       "                {'lb': 0, 'ub': 1000, \"dk0\": None, \"dk1\": None},\n",
       "            'input_RES1_capacity': \\\n",
       "                {'lb': 0, 'ub': 1500, \"dk0\": True, \"dk1\": False},\n",
       "            'input_RES2_capacity': \\\n",
       "                {'lb': 0, 'ub': 1500, \"dk0\": True, \"dk1\": False},\n",
       "            'input_RES3_capacity': \\\n",
       "                {'lb': 0, 'ub': 1500, \"dk0\": True, \"dk1\": False},\n",
       "            'input_cap_boiler3_th': \\\n",
       "                {'lb': 0, 'ub': 10000, \"dk0\": None, \"dk1\": None},\n",
       "        }, dtype=float, orient='index')\n",
       "\n",
       "        # Initialize the parent class\n",
       "        super().__init__(\n",
       "            n_var=len(self.vars),\n",
       "            n_ieq_constr=3,\n",
       "            n_obj=2,\n",
       "            xl=self.vars['lb'].values,\n",
       "            xu=self.vars['ub'].values,\n",
       "            data_file=data_file,\n",
       "            **kwargs\n",
       "        )\n",
       "```"
      ],
      "text/plain": [
       "<IPython.core.display.Markdown object>"
      ]
     },
     "metadata": {},
     "output_type": "display_data"
    }
   ],
   "source": [
    "# Print models class __init__ code\n",
    "init_code = inspect.getsource(model.__init__)\n",
    "display(Markdown(\"```python\\n\" + init_code + \"```\"))"
   ]
  },
  {
   "cell_type": "markdown",
   "metadata": {},
   "source": [
    "The evalutation method is the core of the objective function calculation.\n",
    "\n",
    "The ``Aalborg`` model calls EnergyPLAN twice per iterations.\n",
    "During each iteration, the first call to EnergyPLAN sets only the\n",
    "\n",
    "- `input_cap_chp3_el`,\n",
    "- `input_cap_hp3_el`,\n",
    "- `input_RES1_capacity`,\n",
    "- `input_RES2_capacity`,\n",
    "- `input_RES3_capacity`,\n",
    "\n",
    "variables as input.\n",
    "Then, the annual maximum *Boiler 3 Heat* and *PP Electr.* are read from\n",
    "EnergyPLAN results, and they are used to set the value of\n",
    "`input_cap_pp_el` and `input_cap_boiler3_th`.\n",
    "Finally, if solutions met certain conditions, EnergyPLAN is called again\n",
    "with the new variable values, and CO2 emissions and cost are used as the\n",
    "objective function values.\n",
    "\n",
    "The ``_evaluate`` method does not return a value but it expects you to set a\n",
    "value for, at the least, the ``out[\"F\"]`` value of the ``out`` dictionary.\n",
    "This must be a numpy array, whos size is $N_{solutions} \\times N_{objectives}$.\n",
    "\n",
    "The dictionary values ``\"G\"`` and ``\"H\"`` can be used to declare the left-hand\n",
    "side of inequalities and equalities constraints, respectively.\n",
    "These arrays must have size $N_{solutoins} \\times N_{constraints}$."
   ]
  },
  {
   "cell_type": "code",
   "execution_count": 3,
   "metadata": {},
   "outputs": [
    {
     "data": {
      "text/markdown": [
       "```python\n",
       "    def _evaluate(self, x, out, *args, **kwargs):\n",
       "        \"\"\"\n",
       "        This function defines the evaluation of the problem. That is, the\n",
       "        objective function and constraints are evaluated here. The objective\n",
       "        function evaluation consists of a call to EnergyPLAN. Since the problem\n",
       "        is unconstrained, the constraints are not evaluated.\n",
       "\n",
       "        \"\"\"\n",
       "        # Dump the full list of variables to a file\n",
       "        for i, ind in enumerate(x):\n",
       "            dump_input({k: ind[j] for j, k in enumerate(self.vars.index)}, i,\n",
       "            self.default_data)\n",
       "\n",
       "        # Call EnergyPLAN using spool mode; only the input files are needed\n",
       "        execute_energyplan_spool([f\"input{i}.txt\" for i in range(len(x))])\n",
       "\n",
       "        # Parse the output file and store the objective function value in an\n",
       "        # array\n",
       "        Y = find_values(\n",
       "            ENERGYPLAN_RESULTS,\n",
       "            \"CO2-emission (corrected)\",\n",
       "            \"TOTAL ANNUAL COSTS\",\n",
       "            (\"Annual Maximum\", \"Import Electr.\"),\n",
       "            (\"Annual\", \"Balance3 Heat\"),\n",
       "            (\"Annual Minimum\", \"Stabil. Load\"),\n",
       "        )\n",
       "\n",
       "        # The objective function values are stored in the first two columns\n",
       "        out[\"F\"] = Y[:, :2]\n",
       "\n",
       "        # CONSTRAINTS\n",
       "        # Since there are a fes constraints, we evaluate the left-hand side\n",
       "        # of the constraints and store the values in out[\"G\"].\n",
       "\n",
       "        # Transmission line capacity of export/import: 160 MW. This constraint\n",
       "        # enforces the system to produce enough electricity so that it does not\n",
       "        # require to import more than 160 MW.\n",
       "        import_constr = np.array(Y[:, 2]) - 160\n",
       "\n",
       "        # Heat balance. This constraint enforces the system to produce exactly\n",
       "        # the amount of heat necessary to meet the heat demand.\n",
       "        heat = np.array(Y[:, 3])\n",
       "\n",
       "        # Grid stabilization: More than 30% of power production in all hours\n",
       "        # must come from units able to supply grid support (see [77] for\n",
       "        # details on grid stability in EnergyPLAN).\n",
       "        # This constraint is already taken into account by EnergyPLAN so we\n",
       "        # just need to subtract the value from 100 to have a constraint that\n",
       "        # is satisfied when the value is positive.\n",
       "        stable_load = 100 - np.array(Y[:, 4])\n",
       "\n",
       "        out[\"G\"] = np.column_stack([\n",
       "            import_constr,\n",
       "            stable_load,\n",
       "            heat,\n",
       "        ])\n",
       "```"
      ],
      "text/plain": [
       "<IPython.core.display.Markdown object>"
      ]
     },
     "metadata": {},
     "output_type": "display_data"
    }
   ],
   "source": [
    "eval_code = inspect.getsource(model._evaluate)\n",
    "display(Markdown(\"```python\\n\" + eval_code + \"```\"))"
   ]
  },
  {
   "cell_type": "markdown",
   "metadata": {},
   "source": [
    "## Problem resolution\n",
    "\n",
    "The utility function ``minimize`` is the default way to run an algorithm on a\n",
    "problem of your choice.\n",
    "It requires to pass the model variable, i.e., the variable to which the model\n",
    "has been assigned, the algorithm, and a stopping criterion.\n",
    "Optionally, a ``seed`` value can be provided, which enables replicability of\n",
    "results, and ``verbose`` can be set to ``True`` to visualize runtime infomrmation.\n",
    "\n",
    "The ``minimize`` function returns an objects storing results. Below, we show\n",
    "how to extract some quantities of interest and plot them.\n",
    "\n",
    "### NSGA-2 Algorithm\n",
    "\n",
    "The NSGA-2 algorithm {cite:p}`DEB2002` is one of the most popular algorithm\n",
    "for multi-objective optimization and it is used here for benchmarking of\n",
    "results against the Domain Knowledge algorithm proposed by {cite:t}`MAHBUB2016483`."
   ]
  },
  {
   "cell_type": "code",
   "execution_count": 3,
   "metadata": {
    "tags": [
     "hide-output"
    ]
   },
   "outputs": [
    {
     "name": "stdout",
     "output_type": "stream",
     "text": [
      "==========================================================================================\n",
      "n_gen  |  n_eval  | n_nds  |     cv_min    |     cv_avg    |      eps      |   indicator  \n",
      "==========================================================================================\n",
      "     1 |       50 |     12 |  0.000000E+00 |  0.0964000000 |             - |             -\n",
      "     2 |      100 |     17 |  0.000000E+00 |  0.000000E+00 |  0.0068259386 |         ideal\n",
      "     3 |      150 |     21 |  0.000000E+00 |  0.000000E+00 |  0.0202020202 |         ideal\n",
      "     4 |      200 |     20 |  0.000000E+00 |  0.000000E+00 |  0.0050599659 |             f\n",
      "     5 |      250 |     23 |  0.000000E+00 |  0.000000E+00 |  0.0904452690 |         nadir\n",
      "     6 |      300 |     26 |  0.000000E+00 |  0.000000E+00 |  0.0045526066 |             f\n",
      "     7 |      350 |     24 |  0.000000E+00 |  0.000000E+00 |  0.0060021305 |             f\n",
      "     8 |      400 |     26 |  0.000000E+00 |  0.000000E+00 |  0.0050251256 |         ideal\n",
      "     9 |      450 |     26 |  0.000000E+00 |  0.000000E+00 |  0.000000E+00 |             f\n",
      "    10 |      500 |     26 |  0.000000E+00 |  0.000000E+00 |  0.000000E+00 |             f\n",
      "    11 |      550 |     26 |  0.000000E+00 |  0.000000E+00 |  0.000000E+00 |             f\n",
      "    12 |      600 |     26 |  0.000000E+00 |  0.000000E+00 |  0.000000E+00 |             f\n",
      "    13 |      650 |     26 |  0.000000E+00 |  0.000000E+00 |  0.000000E+00 |             f\n",
      "    14 |      700 |     26 |  0.000000E+00 |  0.000000E+00 |  0.000000E+00 |             f\n",
      "    15 |      750 |     26 |  0.000000E+00 |  0.000000E+00 |  0.000000E+00 |             f\n",
      "    16 |      800 |     26 |  0.000000E+00 |  0.000000E+00 |  0.000000E+00 |             f\n",
      "    17 |      850 |     26 |  0.000000E+00 |  0.000000E+00 |  0.000000E+00 |             f\n",
      "    18 |      900 |     26 |  0.000000E+00 |  0.000000E+00 |  0.000000E+00 |             f\n",
      "    19 |      950 |     26 |  0.000000E+00 |  0.000000E+00 |  0.000000E+00 |             f\n",
      "    20 |     1000 |     26 |  0.000000E+00 |  0.000000E+00 |  0.000000E+00 |             f\n"
     ]
    }
   ],
   "source": [
    "model_name = 'Aalborg'\n",
    "model = get_model(model_name)\n",
    "\n",
    "algorithm_name = 'NSGA2'\n",
    "# The population size can be provided when the algorithm is declared\n",
    "# using the `pop_size` argument. If it is not explicitly set, the\n",
    "# default value is 100.\n",
    "algorithm = get_algorithm(algorithm_name)\n",
    "\n",
    "res = minimize(\n",
    "    model,\n",
    "    algorithm,\n",
    "    ('n_gen', 100),  # The stopping criterion is set to 100 generations\n",
    "    seed=2903,       # Setting a seed allows us to replicate an experiment\n",
    "    verbose=True     # Print information while the algorithm is running\n",
    ")"
   ]
  },
  {
   "cell_type": "markdown",
   "metadata": {},
   "source": [
    "#### Results analysis"
   ]
  },
  {
   "cell_type": "code",
   "execution_count": 4,
   "metadata": {},
   "outputs": [
    {
     "data": {
      "image/png": "[encoded data removed]",
      "text/plain": [
       "<Figure size 640x480 with 1 Axes>"
      ]
     },
     "metadata": {},
     "output_type": "display_data"
    }
   ],
   "source": [
    "import pandas as pd\n",
    "import matplotlib.pyplot as plt\n",
    "\n",
    "# Get the pareto-front\n",
    "F = res.F\n",
    "\n",
    "# Load reference data from the paper, no index column and space separated\n",
    "ref = pd.read_csv('aalborg-reference.csv', sep=' ', header=None,\n",
    "                  names=['CO2 [Mton]', 'Cost [M DKK]'],\n",
    "                  index_col=False)\n",
    "\n",
    "# Plot the pareto-front\n",
    "plt.scatter(F[:,0], F[:,1], label=model_name)\n",
    "plt.scatter(ref.values[:,0], ref.values[:,1], label='Reference')\n",
    "plt.xlabel('CO$_2$ [Mton]')\n",
    "plt.ylabel('Cost [M DKK]')\n",
    "plt.title('Reference vs. MOEA')\n",
    "plt.grid()\n",
    "plt.legend()\n",
    "\n",
    "plt.show()"
   ]
  },
  {
   "cell_type": "markdown",
   "metadata": {},
   "source": [
    "#### Convergence analysis\n",
    "\n",
    "The results of the paper {cite:t}`MAHBUB2016140` are used as reference to\n",
    "measure the quality of the solution. We implement the Inverted Generational\n",
    "Distance (IGD) {cite:t}`COELLOCOELLO2004688` to quantify the distance from any\n",
    "point in the set of solutions $Z$ to the closest point in the set of\n",
    "reference solutions $A$.\n",
    "\n",
    "$$\n",
    "IGD(A) = \\frac{1}{|Z|} \\left( \\sum_{i=1}^{|Z|} \\hat{d}_i ^{\\,p} \\right) ^{1/p}\n",
    "$$\n",
    "\n",
    "where $\\hat{d}_i$ represents the Euclidean distance ($p=2$) from $z_i$ to its\n",
    "nearest reference point in $A$.\n",
    "\n",
    "The lower the value of the IGD, the closer the set $A$ to the reference set\n",
    "$Z$."
   ]
  },
  {
   "cell_type": "code",
   "execution_count": 7,
   "metadata": {},
   "outputs": [
    {
     "name": "stdout",
     "output_type": "stream",
     "text": [
      "IGD 18.701021111480948\n"
     ]
    }
   ],
   "source": [
    "from pymoo.indicators.igd import IGD\n",
    "\n",
    "igds = {}\n",
    "\n",
    "ind = IGD(ref.values)\n",
    "igds[(model_name, algorithm_name)] = ind(res.F)\n",
    "print(\"IGD\", ind(res.F))"
   ]
  },
  {
   "cell_type": "markdown",
   "metadata": {},
   "source": [
    "## Domain knowledge algorithm\n",
    "\n",
    "In {cite:ps}`MAHBUB2016483`, the Domain Knowledge algotithm is proposed to exploit experts' knowledge of the underlying energy scenario to enhance the MOEA.\n",
    "In the following, both the `AalborgA` and `AalborgB` models are run using the Domain Knowledge algorithm to check for improvements."
   ]
  },
  {
   "cell_type": "markdown",
   "metadata": {},
   "source": [
    "### Aalborg model with single call to EnergyPLAN and the DK algorithm"
   ]
  },
  {
   "cell_type": "code",
   "execution_count": null,
   "metadata": {
    "tags": [
     "hide-output"
    ]
   },
   "outputs": [
    {
     "name": "stdout",
     "output_type": "stream",
     "text": [
      "==========================================================================================\n",
      "n_gen  |  n_eval  | n_nds  |     cv_min    |     cv_avg    |      eps      |   indicator  \n",
      "==========================================================================================\n",
      "     1 |      101 |     24 |  0.000000E+00 |  0.000000E+00 |             - |             -\n",
      "     2 |      201 |     29 |  0.000000E+00 |  0.000000E+00 |  0.0041139241 |         ideal\n",
      "     3 |      301 |     39 |  0.000000E+00 |  0.000000E+00 |  0.0040970690 |         ideal\n",
      "     4 |      401 |     39 |  0.000000E+00 |  0.000000E+00 |  0.0065748278 |         ideal\n",
      "     5 |      501 |     45 |  0.000000E+00 |  0.000000E+00 |  0.0154130703 |         ideal\n",
      "     6 |      601 |     50 |  0.000000E+00 |  0.000000E+00 |  0.0085382647 |             f\n",
      "     7 |      701 |     57 |  0.000000E+00 |  0.000000E+00 |  0.0118793786 |         ideal\n",
      "     8 |      801 |     59 |  0.000000E+00 |  0.000000E+00 |  0.0023359659 |             f\n",
      "     9 |      901 |     66 |  0.000000E+00 |  0.000000E+00 |  0.0035609622 |             f\n",
      "    10 |     1001 |     75 |  0.000000E+00 |  0.000000E+00 |  0.0167714885 |         nadir\n",
      "    11 |     1101 |     78 |  0.000000E+00 |  0.000000E+00 |  0.0015558687 |             f\n",
      "    12 |     1201 |     78 |  0.000000E+00 |  0.000000E+00 |  0.0026980763 |             f\n",
      "    13 |     1301 |     86 |  0.000000E+00 |  0.000000E+00 |  0.0007371445 |             f\n",
      "    14 |     1401 |     85 |  0.000000E+00 |  0.000000E+00 |  0.0011604894 |             f\n",
      "    15 |     1501 |     86 |  0.000000E+00 |  0.000000E+00 |  0.0023967185 |             f\n",
      "    16 |     1601 |     91 |  0.000000E+00 |  0.000000E+00 |  0.0040136359 |             f\n",
      "    17 |     1701 |     91 |  0.000000E+00 |  0.000000E+00 |  0.0009472242 |             f\n",
      "    18 |     1801 |     94 |  0.000000E+00 |  0.000000E+00 |  0.0023792476 |             f\n",
      "    19 |     1901 |    100 |  0.000000E+00 |  0.000000E+00 |  0.0033474917 |             f\n",
      "    20 |     2001 |    100 |  0.000000E+00 |  0.000000E+00 |  0.0003307192 |             f\n",
      "    21 |     2101 |    100 |  0.000000E+00 |  0.000000E+00 |  0.0006571423 |             f\n",
      "    22 |     2201 |     99 |  0.000000E+00 |  0.000000E+00 |  0.0011412357 |             f\n",
      "    23 |     2301 |    100 |  0.000000E+00 |  0.000000E+00 |  0.0014118952 |             f\n",
      "    24 |     2401 |     99 |  0.000000E+00 |  0.000000E+00 |  0.0016082368 |             f\n",
      "    25 |     2501 |    100 |  0.000000E+00 |  0.000000E+00 |  0.0021003984 |             f\n",
      "    26 |     2601 |    100 |  0.000000E+00 |  0.000000E+00 |  0.0027342046 |             f\n",
      "    27 |     2701 |    100 |  0.000000E+00 |  0.000000E+00 |  0.0004896815 |             f\n",
      "    28 |     2801 |    100 |  0.000000E+00 |  0.000000E+00 |  0.0007694602 |             f\n",
      "    29 |     2901 |    100 |  0.000000E+00 |  0.000000E+00 |  0.0009769838 |             f\n",
      "    30 |     3001 |    100 |  0.000000E+00 |  0.000000E+00 |  0.0011828272 |             f\n",
      "    31 |     3101 |    100 |  0.000000E+00 |  0.000000E+00 |  0.0016489373 |             f\n",
      "    32 |     3201 |    100 |  0.000000E+00 |  0.000000E+00 |  0.0015616013 |             f\n",
      "    33 |     3301 |    100 |  0.000000E+00 |  0.000000E+00 |  0.0015616013 |             f\n",
      "    34 |     3401 |    100 |  0.000000E+00 |  0.000000E+00 |  0.0017869106 |             f\n",
      "    35 |     3501 |    100 |  0.000000E+00 |  0.000000E+00 |  0.0018235956 |             f\n",
      "    36 |     3601 |    100 |  0.000000E+00 |  0.000000E+00 |  0.0020167830 |             f\n",
      "    37 |     3701 |    100 |  0.000000E+00 |  0.000000E+00 |  0.0021365615 |             f\n",
      "    38 |     3801 |    100 |  0.000000E+00 |  0.000000E+00 |  0.0021365615 |             f\n",
      "    39 |     3901 |    100 |  0.000000E+00 |  0.000000E+00 |  0.0024145862 |             f\n",
      "    40 |     4001 |    100 |  0.000000E+00 |  0.000000E+00 |  0.0029665803 |             f\n",
      "    41 |     4101 |    100 |  0.000000E+00 |  0.000000E+00 |  0.0002976723 |             f\n",
      "    42 |     4201 |    100 |  0.000000E+00 |  0.000000E+00 |  0.0003569894 |             f\n",
      "    43 |     4301 |    100 |  0.000000E+00 |  0.000000E+00 |  0.0006957036 |             f\n",
      "    44 |     4401 |    100 |  0.000000E+00 |  0.000000E+00 |  0.0008370772 |             f\n",
      "    45 |     4501 |    100 |  0.000000E+00 |  0.000000E+00 |  0.1182183523 |         nadir\n",
      "    46 |     4601 |    100 |  0.000000E+00 |  0.000000E+00 |  0.0002128005 |             f\n",
      "    47 |     4701 |    100 |  0.000000E+00 |  0.000000E+00 |  0.0002895379 |             f\n",
      "    48 |     4801 |    100 |  0.000000E+00 |  0.000000E+00 |  0.0005910986 |             f\n",
      "    49 |     4901 |    100 |  0.000000E+00 |  0.000000E+00 |  0.0006226016 |             f\n",
      "    50 |     5001 |    100 |  0.000000E+00 |  0.000000E+00 |  0.0008068566 |             f\n",
      "    51 |     5101 |    100 |  0.000000E+00 |  0.000000E+00 |  0.0009399030 |             f\n",
      "    52 |     5201 |    100 |  0.000000E+00 |  0.000000E+00 |  0.0011496898 |             f\n",
      "    53 |     5301 |    100 |  0.000000E+00 |  0.000000E+00 |  0.0011565545 |             f\n",
      "    54 |     5401 |    100 |  0.000000E+00 |  0.000000E+00 |  0.0012043539 |             f\n",
      "    55 |     5501 |    100 |  0.000000E+00 |  0.000000E+00 |  0.0011517469 |             f\n",
      "    56 |     5601 |    100 |  0.000000E+00 |  0.000000E+00 |  0.0011517469 |             f\n",
      "    57 |     5701 |    100 |  0.000000E+00 |  0.000000E+00 |  0.0011672790 |             f\n",
      "    58 |     5801 |    100 |  0.000000E+00 |  0.000000E+00 |  0.0012470841 |             f\n",
      "    59 |     5901 |    100 |  0.000000E+00 |  0.000000E+00 |  0.0014553347 |             f\n",
      "    60 |     6001 |    100 |  0.000000E+00 |  0.000000E+00 |  0.0016054409 |             f\n",
      "    61 |     6101 |    100 |  0.000000E+00 |  0.000000E+00 |  0.0016847895 |             f\n",
      "    62 |     6201 |    100 |  0.000000E+00 |  0.000000E+00 |  0.0017300097 |             f\n",
      "    63 |     6301 |    100 |  0.000000E+00 |  0.000000E+00 |  0.0019707105 |             f\n",
      "    64 |     6401 |    100 |  0.000000E+00 |  0.000000E+00 |  0.0019821447 |             f\n",
      "    65 |     6501 |    100 |  0.000000E+00 |  0.000000E+00 |  0.0020865064 |             f\n",
      "    66 |     6601 |    100 |  0.000000E+00 |  0.000000E+00 |  0.0021628318 |             f\n",
      "    67 |     6701 |    100 |  0.000000E+00 |  0.000000E+00 |  0.0024836453 |             f\n",
      "    68 |     6801 |    100 |  0.000000E+00 |  0.000000E+00 |  0.0025421544 |             f\n",
      "    69 |     6901 |    100 |  0.000000E+00 |  0.000000E+00 |  0.0002194323 |             f\n",
      "    70 |     7001 |    100 |  0.000000E+00 |  0.000000E+00 |  0.0003254559 |             f\n",
      "    71 |     7101 |    100 |  0.000000E+00 |  0.000000E+00 |  0.0004245785 |             f\n",
      "    72 |     7201 |    100 |  0.000000E+00 |  0.000000E+00 |  0.0004974805 |             f\n",
      "    73 |     7301 |    100 |  0.000000E+00 |  0.000000E+00 |  0.0007976737 |             f\n",
      "    74 |     7401 |    100 |  0.000000E+00 |  0.000000E+00 |  0.0008777815 |             f\n",
      "    75 |     7501 |    100 |  0.000000E+00 |  0.000000E+00 |  0.0007952563 |             f\n",
      "    76 |     7601 |    100 |  0.000000E+00 |  0.000000E+00 |  0.0008630966 |             f\n",
      "    77 |     7701 |    100 |  0.000000E+00 |  0.000000E+00 |  0.0009203118 |             f\n",
      "    78 |     7801 |    100 |  0.000000E+00 |  0.000000E+00 |  0.0010064874 |             f\n",
      "    79 |     7901 |    100 |  0.000000E+00 |  0.000000E+00 |  0.0009787185 |             f\n",
      "    80 |     8001 |    100 |  0.000000E+00 |  0.000000E+00 |  0.0011668784 |             f\n",
      "    81 |     8101 |    100 |  0.000000E+00 |  0.000000E+00 |  0.0014178552 |             f\n",
      "    82 |     8201 |    100 |  0.000000E+00 |  0.000000E+00 |  0.0014950954 |             f\n",
      "    83 |     8301 |    100 |  0.000000E+00 |  0.000000E+00 |  0.0015272788 |             f\n",
      "    84 |     8401 |    100 |  0.000000E+00 |  0.000000E+00 |  0.0015272788 |             f\n",
      "    85 |     8501 |    100 |  0.000000E+00 |  0.000000E+00 |  0.0016287046 |             f\n",
      "    86 |     8601 |    100 |  0.000000E+00 |  0.000000E+00 |  0.0016427220 |             f\n",
      "    87 |     8701 |    100 |  0.000000E+00 |  0.000000E+00 |  0.0020039556 |             f\n",
      "    88 |     8801 |    100 |  0.000000E+00 |  0.000000E+00 |  0.0019897016 |             f\n",
      "    89 |     8901 |    100 |  0.000000E+00 |  0.000000E+00 |  0.0019897016 |             f\n",
      "    90 |     9001 |    100 |  0.000000E+00 |  0.000000E+00 |  0.0020116265 |             f\n",
      "    91 |     9101 |    100 |  0.000000E+00 |  0.000000E+00 |  0.0021889213 |             f\n",
      "    92 |     9201 |    100 |  0.000000E+00 |  0.000000E+00 |  0.0022825979 |             f\n",
      "    93 |     9301 |    100 |  0.000000E+00 |  0.000000E+00 |  0.0023217157 |             f\n",
      "    94 |     9401 |    100 |  0.000000E+00 |  0.000000E+00 |  0.0024179169 |             f\n",
      "    95 |     9501 |    100 |  0.000000E+00 |  0.000000E+00 |  0.0024337446 |             f\n",
      "    96 |     9601 |    100 |  0.000000E+00 |  0.000000E+00 |  0.0024753643 |             f\n",
      "    97 |     9701 |    100 |  0.000000E+00 |  0.000000E+00 |  0.0024752985 |             f\n",
      "    98 |     9801 |    100 |  0.000000E+00 |  0.000000E+00 |  0.0024782196 |             f\n",
      "    99 |     9901 |    100 |  0.000000E+00 |  0.000000E+00 |  0.0024681728 |             f\n",
      "   100 |    10001 |    100 |  0.000000E+00 |  0.000000E+00 |  0.0024681728 |             f\n"
     ]
    }
   ],
   "source": [
    "model_name = 'AalborgB'\n",
    "algorithm_name = 'mahbub2016'\n",
    "\n",
    "model = get_model(model_name)\n",
    "algorithm = get_algorithm(algorithm_name, pop_size=100)\n",
    "\n",
    "res = minimize(\n",
    "    model,\n",
    "    algorithm,\n",
    "    ('n_gen', 100),\n",
    "    seed=4395,\n",
    "    verbose=True\n",
    ")"
   ]
  },
  {
   "cell_type": "code",
   "execution_count": 5,
   "metadata": {},
   "outputs": [
    {
     "data": {
      "image/png": "[encoded data removed]",
      "text/plain": [
       "<Figure size 640x480 with 1 Axes>"
      ]
     },
     "metadata": {},
     "output_type": "display_data"
    }
   ],
   "source": [
    "import pandas as pd\n",
    "import matplotlib.pyplot as plt\n",
    "\n",
    "# Get the pareto-front\n",
    "F = res.F\n",
    "\n",
    "# Load reference data from the paper, no index column and space separated\n",
    "ref = pd.read_csv('aalborg-reference.csv', sep=' ', header=None,\n",
    "                  names=['CO2 [Mton]', 'Cost [M DKK]'],\n",
    "                  index_col=False)\n",
    "\n",
    "# Plot the pareto-front\n",
    "plt.scatter(F[:,0], F[:,1], label=model_name)\n",
    "plt.scatter(ref.values[:,0], ref.values[:,1], label='Reference')\n",
    "plt.xlabel('CO$_2$ [Mton]')\n",
    "plt.ylabel('Cost [M DKK]')\n",
    "plt.title('Reference vs. MOEA')\n",
    "plt.grid()\n",
    "plt.legend()\n",
    "\n",
    "plt.show()"
   ]
  },
  {
   "cell_type": "markdown",
   "metadata": {},
   "source": [
    "The resulting IGD value is"
   ]
  },
  {
   "cell_type": "code",
   "execution_count": 6,
   "metadata": {},
   "outputs": [
    {
     "ename": "NameError",
     "evalue": "name 'IGD' is not defined",
     "output_type": "error",
     "traceback": [
      "\u001b[1;31m---------------------------------------------------------------------------\u001b[0m",
      "\u001b[1;31mNameError\u001b[0m                                 Traceback (most recent call last)",
      "Cell \u001b[1;32mIn[6], line 1\u001b[0m\n\u001b[1;32m----> 1\u001b[0m ind \u001b[38;5;241m=\u001b[39m \u001b[43mIGD\u001b[49m(ref\u001b[38;5;241m.\u001b[39mvalues)\n\u001b[0;32m      2\u001b[0m igds[(model_name, algorithm_name)] \u001b[38;5;241m=\u001b[39m ind(res\u001b[38;5;241m.\u001b[39mF)\n\u001b[0;32m      3\u001b[0m \u001b[38;5;28mprint\u001b[39m(\u001b[38;5;124m\"\u001b[39m\u001b[38;5;124mIGD\u001b[39m\u001b[38;5;124m\"\u001b[39m, ind(res\u001b[38;5;241m.\u001b[39mF))\n",
      "\u001b[1;31mNameError\u001b[0m: name 'IGD' is not defined"
     ]
    }
   ],
   "source": [
    "ind = IGD(ref.values)\n",
    "igds[(model_name, algorithm_name)] = ind(res.F)\n",
    "print(\"IGD\", ind(res.F))"
   ]
  },
  {
   "cell_type": "code",
   "execution_count": null,
   "metadata": {},
   "outputs": [],
   "source": [
    "\n",
    "model_name = 'AalborgC'\n",
    "algorithm_name = 'mahbub2016'\n",
    "\n",
    "model = get_model(model_name)\n",
    "algorithm = get_algorithm(algorithm_name, pop_size=100)\n",
    "\n",
    "res = minimize(\n",
    "    model,\n",
    "    algorithm,\n",
    "    ('n_gen', 100),\n",
    "    seed=4395,\n",
    "    verbose=True\n",
    ")"
   ]
  },
  {
   "cell_type": "code",
   "execution_count": null,
   "metadata": {},
   "outputs": [],
   "source": [
    "\n",
    "# Get the pareto-front\n",
    "F = res.F\n",
    "\n",
    "# Load reference data from the paper, no index column and space separated\n",
    "ref = pd.read_csv('aalborg-reference.csv', sep=' ', header=None,\n",
    "                  names=['CO2 [Mton]', 'Cost [M DKK]'],\n",
    "                  index_col=False)\n",
    "\n",
    "# Plot the pareto-front\n",
    "plt.scatter(F[:,0], F[:,1], label=model_name)\n",
    "plt.scatter(ref.values[:,0], ref.values[:,1], label='Reference')\n",
    "plt.xlabel('CO$_2$ [Mton]')\n",
    "plt.ylabel('Cost [M DKK]')\n",
    "plt.title('Reference vs. MOEA')\n",
    "plt.grid()\n",
    "plt.legend()\n",
    "\n",
    "plt.show()"
   ]
  },
  {
   "cell_type": "code",
   "execution_count": null,
   "metadata": {},
   "outputs": [],
   "source": [
    "\n",
    "ind = IGD(ref.values)\n",
    "igds[(model_name, algorithm_name)] = ind(res.F)\n",
    "print(\"IGD\", ind(res.F))"
   ]
  },
  {
   "cell_type": "markdown",
   "metadata": {},
   "source": [
    "## References\n",
    "\n",
    "```{bibliography}\n",
    ":style: unsrt\n",
    "```"
   ]
  }
 ],
 "metadata": {
  "kernelspec": {
   "display_name": "moea",
   "language": "python",
   "name": "python3"
  },
  "language_info": {
   "codemirror_mode": {
    "name": "ipython",
    "version": 3
   },
   "file_extension": ".py",
   "mimetype": "text/x-python",
   "name": "python",
   "nbconvert_exporter": "python",
   "pygments_lexer": "ipython3",
   "version": "3.10.15"
  }
 },
 "nbformat": 4,
 "nbformat_minor": 2
}
