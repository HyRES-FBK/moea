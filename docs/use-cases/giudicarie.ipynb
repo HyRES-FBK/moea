{
 "cells": [
  {
   "cell_type": "markdown",
   "metadata": {},
   "source": [
    "# Optimized energy scenarios Giudicarie Esteriori\n",
    "\n",
    "Author: Michele Urbani ([murbani@fbk.eu](mailto:murbani@fbk.eu))\n",
    "\n",
    "In this notebook, we replicate the study in {cite:ps}`MAHBUB2016236`.\n",
    "\n",
    "## Problem description\n",
    "\n",
    "### Decision variables\n",
    "\n",
    "The decision variables are:\n",
    "\n",
    "1. **PV capacity**: the amount of installed PV capacity is 5 MW and it is\n",
    "as the lower bound for the variable, whereas the calculated maximum PV capacity\n",
    "is 42 MW, which is the upper bound.\n",
    "2. **Heat production technologies**: individual wood, oil, LPG boilers, and\n",
    "gound source heat pumps are decision variables expressed as percentages of the\n",
    "total.\n",
    "3. **Wood organic ranking cycle micro cogeneration** provides both thermal and\n",
    "electrical power\n",
    "\n",
    "### Constraints\n",
    "\n",
    "The are two constraints: the first concerns the variables at points 2 and 3 of\n",
    "the list above, which must sum to 1. The second constraints limits the total\n",
    "wood consumption to be less than 57 GWh/year.\n",
    "\n",
    "### Optimization objectives\n",
    "\n",
    "There are four optimization objectives.\n",
    "\n",
    "1. **CO$_2$ minimization**: the value of produced CO$_2$ is\n",
    "``CO2-emission (corrected)`` in EnergyPLAN output.\n",
    "2. **Annual cost minimization**: the annual cost is the sum of the annual\n",
    "investment cost, variable operational and maintenance (O&M) cost, fixed\n",
    "operational and maintenacne cost, and the variable O&M and fixed O&M costs.\n",
    "3. **Load following capacity (LFC) minimization**: the LFC expresses how much\n",
    "electricity production follows electrivity demand over a period (yearly in this\n",
    "case).\n",
    "4. **Energy system dependency (ESD) minimization** concerns the reduction of\n",
    "foreign energy import.\n",
    "\n",
    "## Problem declaration\n",
    "\n",
    "The ``_evaluate`` method is analyzed in the following."
   ]
  },
  {
   "cell_type": "code",
   "execution_count": 2,
   "metadata": {},
   "outputs": [
    {
     "data": {
      "text/markdown": [
       "```python\n",
       "    def _evaluate(self, x, out, *args, **kwargs):\n",
       "        # Use enums for the percentage variables\n",
       "        PV = 0\n",
       "        OIL = 1\n",
       "        LPG = 2\n",
       "        BIOMASS = 3\n",
       "        CHP = 4\n",
       "        HP = 5\n",
       "\n",
       "        z = np.sort(x[:, OIL:]).T\n",
       "\n",
       "        percentages = np.zeros_like(x.T)\n",
       "        percentages[PV] = x[:, PV]\n",
       "        percentages[OIL] = z[OIL]\n",
       "        percentages[LPG] = z[LPG] - z[OIL]\n",
       "        percentages[BIOMASS] = z[BIOMASS] - z[LPG]\n",
       "        percentages[CHP] = z[CHP] - z[BIOMASS]\n",
       "        percentages[HP] = 1 - z[CHP]\n",
       "\n",
       "        # Dump the input vectors to files\n",
       "        for i, ind in enumerate(percentages.T):\n",
       "            dump_input({k: v for k, v in zip(self.vars.index, ind)},\n",
       "                       i, self.default_data)\n",
       "\n",
       "        # Compute the objective functions\n",
       "        execute_energyplan_spool([f\"input{i}.txt\" for i in range(len(x))])\n",
       "\n",
       "        # Retrieve CO2 emissions and total annual costs\n",
       "        co2, variable_cost, operations_cost = find_values(\n",
       "            ENERGYPLAN_RESULTS,\n",
       "            \"CO2-emission (corrected)\",\n",
       "            \"Variable costs\",\n",
       "            \"Fixed operation costs\"\n",
       "        ).T\n",
       "\n",
       "        # Retrieve:\n",
       "        PV = 0  # annual PV electricity\n",
       "        HYDRO = 1  # annual hydropower\n",
       "        WAVE = 2  # annual wave power\n",
       "        IMPORT = 3  # annual import\n",
       "        EXPORT = 4  # annual export\n",
       "        HP = 5  # annual HP electricity\n",
       "        HH_CHP = 6  # annual HH electricity CHP\n",
       "        DEMAND = 7  # annual demand\n",
       "        NGAS = 8  # annual natural gas\n",
       "        OIL = 9  # annual oil\n",
       "        BIOGAS = 10  # annual biomass\n",
       "\n",
       "        z = np.zeros((11, len(x)))\n",
       "\n",
       "        for i, res in enumerate(ENERGYPLAN_RESULTS.glob(\"*.txt\")):\n",
       "            D = parse_output(res)\n",
       "            annual_lbl = [i for i in D.keys() if 'TOTAL FOR ONE YEAR' in i][0]\n",
       "            fuel_lbl = [i for i in D.keys() if 'ANNUAL FUEL' in i][0]\n",
       "            z[HYDRO, i] = float(D[annual_lbl][\"Hydro Electr.\"])\n",
       "            z[PV, i] = float(D[annual_lbl][\"PV Electr.\"])\n",
       "            z[WAVE, i] = float(max(D[annual_lbl][\"Wave Electr.\"]))\n",
       "            z[IMPORT, i] = float(D[annual_lbl][\"Import Electr.\"])\n",
       "            z[EXPORT, i] = float(D[annual_lbl][\"Export Electr.\"])\n",
       "            z[HH_CHP, i] = float(D[annual_lbl][\"HH-CHP Electr.\"])\n",
       "            z[HP, i] = float(D[annual_lbl][\"HH-HP Electr.\"])\n",
       "            z[DEMAND, i] = float(D[annual_lbl][\"Electr. Demand\"])\n",
       "            z[NGAS, i] = float(D[fuel_lbl]['TOTAL'][\"Ngas Consumption\"])\n",
       "            z[OIL, i] = float(D[fuel_lbl]['TOTAL'][\"Oil Consumption\"])\n",
       "            z[BIOGAS, i] = float(D[fuel_lbl]['TOTAL'][\"Biomass Consumption\"])\n",
       "\n",
       "        total_additional_cost = (\n",
       "            z[HYDRO] + z[PV] + z[WAVE] + z[HH_CHP] + z[IMPORT] - z[EXPORT]\n",
       "        ) * self.addtionalCostPerGWhinKEuro\n",
       "\n",
       "        HP_capacity = (self.maxHeatDemandInDistribution * percentages[HP] *\n",
       "                       self.totalHeatDemand * 1e6) / \\\n",
       "                        (self.COP * self.sumOfAllHeatDistributions)\n",
       "\n",
       "        geo_borehole_cost = (HP_capacity * self.geoBoreholeCostInKWe) / \\\n",
       "            (1 - (1 + self.interest) ** -self.geoBoreHoleLifeTime)\n",
       "\n",
       "        biomass_boiler_capacity = \\\n",
       "            (self.totalHeatDemand * percentages[BIOMASS]) * \\\n",
       "                1e6 * 1.5 / self.sumOfAllHeatDistributions\n",
       "\n",
       "        investment_cost_reduction_biomass_boiler = np.where(\n",
       "            biomass_boiler_capacity > self.currentIndvBiomassBoilerCapacity,\n",
       "            (self.currentIndvBiomassBoilerCapacity * \\\n",
       "                self.individualBoilerInvestmentCostInKEuro * \\\n",
       "                    self.interest) / \\\n",
       "                    (1 - (1 + self.interest) ** -self.boilerLifeTime),\n",
       "            (biomass_boiler_capacity * \\\n",
       "                self.individualBoilerInvestmentCostInKEuro * \\\n",
       "                    self.interest) / \\\n",
       "                        (1 - (1 + self.interest) ** -self.boilerLifeTime)\n",
       "        )\n",
       "\n",
       "        # Since OIL has been overwritten, we use directly the index 1 for OIL\n",
       "        oil_boiler_capacity = (self.totalHeatDemand * percentages[1]) * \\\n",
       "            1e6 * 1.5 / self.sumOfAllHeatDistributions\n",
       "\n",
       "        investment_cost_reduction_oil_boiler = np.where(\n",
       "            oil_boiler_capacity > self.currentIndvOilBoilerCapacity,\n",
       "            (self.currentIndvOilBoilerCapacity * \\\n",
       "                self.individualBoilerInvestmentCostInKEuro * \\\n",
       "                    self.interest) / \\\n",
       "                    (1 - (1 + self.interest) ** -self.boilerLifeTime),\n",
       "            (oil_boiler_capacity * \\\n",
       "                self.individualBoilerInvestmentCostInKEuro * \\\n",
       "                    self.interest) / \\\n",
       "                        (1 - (1 + self.interest) ** -self.boilerLifeTime)\n",
       "        )\n",
       "\n",
       "        lpg_boiler_capacity = (self.totalHeatDemand * percentages[LPG]) * \\\n",
       "            1e6 * 1.5 / self.sumOfAllHeatDistributions\n",
       "        \n",
       "        investment_cost_reduction_lpg_boiler = np.where(\n",
       "            lpg_boiler_capacity > self.currentIndvLPGBoilerCapacity,\n",
       "            (self.currentIndvLPGBoilerCapacity * \\\n",
       "                self.individualBoilerInvestmentCostInKEuro * \\\n",
       "                    self.interest) / \\\n",
       "                    (1 - (1 + self.interest) ** -self.boilerLifeTime),\n",
       "            (lpg_boiler_capacity * \\\n",
       "                self.individualBoilerInvestmentCostInKEuro * \\\n",
       "                    self.interest) / \\\n",
       "                        (1 - (1 + self.interest) ** -self.boilerLifeTime)\n",
       "        )\n",
       "\n",
       "        reduction_investment_cost = \\\n",
       "            (self.currentPVCapacity * self.PVInvestmentCostInKEuro *\n",
       "             self.interest) / (1 - (1 + self.interest) ** -self.PVLifeTime) + \\\n",
       "            (self.currentHydroCapacity * self.hydroInvestmentCostInKEuro *\n",
       "             self.interest) / (1 - (1 + self.interest) ** -self.HydroLifeTime) + \\\n",
       "            (self.currentBiogasCapacity * self.BiogasInvestmentCostInKEuro *\n",
       "             self.interest) / (1 - (1 + self.interest) ** -self.BiogasLifeTime) + \\\n",
       "            investment_cost_reduction_biomass_boiler + \\\n",
       "            investment_cost_reduction_oil_boiler + \\\n",
       "            investment_cost_reduction_lpg_boiler\n",
       "\n",
       "        # Retrieve annual investment costs\n",
       "        annual_investment_costs = np.reshape(find_values(\n",
       "            ENERGYPLAN_RESULTS,\n",
       "            \"Annual Investment costs\"\n",
       "        ), -1)\n",
       "\n",
       "        # Compute the real invertment cost\n",
       "        real_investment_cost = annual_investment_costs - \\\n",
       "            reduction_investment_cost + geo_borehole_cost\n",
       "\n",
       "        # Compute the actual annual cost, which is the third objective\n",
       "        actual_annual_cost = variable_cost + operations_cost + \\\n",
       "            total_additional_cost + real_investment_cost\n",
       "\n",
       "        # Individual house HP electric demand\n",
       "        individual_house_HP_demand = \\\n",
       "            (z[IMPORT] + z[EXPORT]) / (z[DEMAND] - z[HP])\n",
       "        \n",
       "        total_PE_electricity = z[PV] * self.PVPEF + z[HYDRO] * self.HYPEF + \\\n",
       "            z[WAVE] * self.BioGasPEF + z[BIOMASS] * self.BiomassPEF\n",
       "\n",
       "        total_local_electricity = z[PV] + z[HYDRO] + z[WAVE] + z[HH_CHP]\n",
       "\n",
       "        total_PE_consumption = total_PE_electricity / total_local_electricity\n",
       "\n",
       "        ESD = (z[IMPORT] * self.PEFImport + z[OIL] + z[NGAS]) / \\\n",
       "            total_PE_consumption\n",
       "\n",
       "        out[\"F\"] = np.column_stack([\n",
       "            co2, actual_annual_cost, individual_house_HP_demand, ESD\n",
       "        ])\n",
       "```"
      ],
      "text/plain": [
       "<IPython.core.display.Markdown object>"
      ]
     },
     "metadata": {},
     "output_type": "display_data"
    }
   ],
   "source": [
    "import inspect\n",
    "from IPython.display import display, Markdown\n",
    "\n",
    "from moea.models import get_model\n",
    "from moea.algorithms import get_algorithm\n",
    "\n",
    "model_name = 'Giudicarie'\n",
    "algorithm_name = 'NSGA-II'\n",
    "\n",
    "model = get_model(model_name)\n",
    "algorithm = get_algorithm(algorithm_name, pop_size=100)\n",
    "\n",
    "eval_code = inspect.getsource(model._evaluate)\n",
    "display(Markdown(\"```python\\n\" + eval_code + \"```\"))"
   ]
  },
  {
   "cell_type": "code",
   "execution_count": 3,
   "metadata": {},
   "outputs": [
    {
     "name": "stdout",
     "output_type": "stream",
     "text": [
      "==========================================================\n",
      "n_gen  |  n_eval  | n_nds  |      eps      |   indicator  \n",
      "==========================================================\n",
      "     1 |      100 |     95 |             - |             -\n",
      "     2 |      200 |    100 |  0.0088716577 |         ideal\n",
      "     3 |      300 |    100 |  0.0046565774 |         ideal\n",
      "     4 |      400 |    100 |  0.0614033764 |         nadir\n",
      "     5 |      500 |    100 |  0.0161940183 |         ideal\n",
      "     6 |      600 |    100 |  0.0061386563 |         nadir\n",
      "     7 |      700 |    100 |  0.0061765722 |         nadir\n",
      "     8 |      800 |    100 |  0.0102476291 |         nadir\n",
      "     9 |      900 |    100 |  0.0369542266 |         nadir\n",
      "    10 |     1000 |    100 |  0.0027941580 |         nadir\n",
      "    11 |     1100 |    100 |  0.0316112742 |         nadir\n",
      "    12 |     1200 |    100 |  0.0151684022 |             f\n",
      "    13 |     1300 |    100 |  0.0049794487 |         nadir\n",
      "    14 |     1400 |    100 |  0.0034426958 |         ideal\n",
      "    15 |     1500 |    100 |  0.0157814742 |         nadir\n",
      "    16 |     1600 |    100 |  0.0175666199 |             f\n",
      "    17 |     1700 |    100 |  0.0051128217 |         ideal\n",
      "    18 |     1800 |    100 |  0.0420037578 |         nadir\n",
      "    19 |     1900 |    100 |  0.0036251818 |         ideal\n",
      "    20 |     2000 |    100 |  0.0111253615 |         nadir\n",
      "    21 |     2100 |    100 |  0.0144049680 |         nadir\n",
      "    22 |     2200 |    100 |  0.0174071154 |             f\n",
      "    23 |     2300 |    100 |  0.0278388137 |         ideal\n",
      "    24 |     2400 |    100 |  0.0143900896 |             f\n",
      "    25 |     2500 |    100 |  0.0251412903 |         nadir\n",
      "    26 |     2600 |    100 |  0.0176009003 |             f\n",
      "    27 |     2700 |    100 |  0.0331931352 |         nadir\n",
      "    28 |     2800 |    100 |  0.0192215197 |             f\n",
      "    29 |     2900 |    100 |  0.0382277602 |         nadir\n",
      "    30 |     3000 |    100 |  0.0152041897 |             f\n",
      "    31 |     3100 |    100 |  0.0119617955 |             f\n",
      "    32 |     3200 |    100 |  0.0149107993 |             f\n",
      "    33 |     3300 |    100 |  0.0116635500 |             f\n",
      "    34 |     3400 |    100 |  0.0057030768 |         ideal\n",
      "    35 |     3500 |    100 |  0.0136650742 |             f\n",
      "    36 |     3600 |    100 |  0.0449832282 |         nadir\n",
      "    37 |     3700 |    100 |  0.0035796767 |         ideal\n",
      "    38 |     3800 |    100 |  0.0113251806 |         nadir\n",
      "    39 |     3900 |    100 |  0.0112146166 |             f\n",
      "    40 |     4000 |    100 |  0.0119029082 |             f\n",
      "    41 |     4100 |    100 |  0.0096645335 |             f\n",
      "    42 |     4200 |    100 |  0.0407921188 |         nadir\n",
      "    43 |     4300 |    100 |  0.0103083975 |             f\n",
      "    44 |     4400 |    100 |  0.0139750121 |             f\n",
      "    45 |     4500 |    100 |  0.0254937018 |         nadir\n",
      "    46 |     4600 |    100 |  0.0134908107 |             f\n",
      "    47 |     4700 |    100 |  0.0120051920 |             f\n",
      "    48 |     4800 |    100 |  0.0112702410 |             f\n",
      "    49 |     4900 |    100 |  0.0068363987 |             f\n",
      "    50 |     5000 |    100 |  0.0113274593 |         nadir\n"
     ]
    }
   ],
   "source": [
    "from pymoo.optimize import minimize\n",
    "\n",
    "res = minimize(\n",
    "    model,\n",
    "    algorithm,\n",
    "    ('n_gen', 50),\n",
    "    seed=5230,\n",
    "    verbose=True,\n",
    ")"
   ]
  },
  {
   "cell_type": "markdown",
   "metadata": {},
   "source": [
    "## Results analysis"
   ]
  },
  {
   "cell_type": "code",
   "execution_count": 4,
   "metadata": {},
   "outputs": [
    {
     "data": {
      "application/vnd.plotly.v1+json": {
       "config": {
        "plotlyServerURL": "https://plot.ly"
       },
       "data": [
        {
         "hovertemplate": "CO2 emissions (corrected) [Mton]=%{x}<br>Cost [kEUR]=%{y}<br>LFC=%{z}<br>ESD=%{marker.color}<extra></extra>",
         "legendgroup": "",
         "marker": {
          "color": [
           0.3541207939143935,
           0.28204692497708,
           0.3084964492988732,
           0.2763495932029196,
           0.2190948858566792,
           0.2206868177346385,
           0.2968441567742847,
           0.2928151805752179,
           0.3163094728359866,
           0.231035217569186,
           0.2657814812428168,
           0.2264813455186828,
           0.2887299608852257,
           0.2541026312256079,
           0.2178917270330096,
           0.28441580857455,
           0.2359957668629077,
           0.2689295384846363,
           0.3180977133866433,
           0.2339281640043499,
           0.2298937006288902,
           0.3173049921341579,
           0.2596997654364812,
           0.2566808631755356,
           0.3461559646880821,
           0.2182943818538056,
           0.2397172534165879,
           0.2418005474761015,
           0.2426935095271879,
           0.2248163539274076,
           0.2843079182962665,
           0.2201762735055323,
           0.2149575855141727,
           0.2842101861136548,
           0.2212936750140351,
           0.2939162006832428,
           0.242975662985532,
           0.2714544760756703,
           0.2428558805219135,
           0.2315591193628968,
           0.2491990733938072,
           0.2687888021106561,
           0.1990695570892637,
           0.2430824936828706,
           0.226790524935073,
           0.293768876501597,
           0.3200725862514237,
           0.252131729360875,
           0.3081556762031925,
           0.2561519508246146,
           0.2615415719734461,
           0.3039622328227476,
           0.2785912314204366,
           0.3135630778051558,
           0.2617302592723614,
           0.354300162555936,
           0.3217367030733947,
           0.3150804942984147,
           0.2613213924717278,
           0.1989993413792215,
           0.3170167987215088,
           0.2398593779866513,
           0.3068226467986215,
           0.2804424383491717,
           0.2879528413122902,
           0.3496704226658437,
           0.3527395481687599,
           0.2795490732275157,
           0.3082877779910007,
           0.2533912116594013,
           0.3020852891338977,
           0.3268335791028725,
           0.2209608078151726,
           0.2432670378652735,
           0.285103900017047,
           0.2998759532141355,
           0.3375619647928846,
           0.2195667416807071,
           0.2637931451687092,
           0.2509952320627812,
           0.2352637797649352,
           0.3312199902462656,
           0.2220752857818162,
           0.2173912271182958,
           0.2264950417198226,
           0.3148712037925512,
           0.2964289471636122,
           0.2523066201804095,
           0.2471008887059576,
           0.2235674027058518,
           0.2805605981737766,
           0.2962877132621295,
           0.2651578019465436,
           0.2856881684826309,
           0.3133660446551233,
           0.3083264276691499,
           0.3318538629638973,
           0.2837442253422077,
           0.2283785251773694,
           0.2959173426653438,
           0.2812854578507476,
           0.2568468438523858,
           0.2352068691762777,
           0.27656896156591,
           0.292712110374236,
           0.2871292657038704,
           0.2971821929809547,
           0.3153062709108209,
           0.3198990157004844,
           0.3067498127095825,
           0.28876044342585,
           0.2764999044645008,
           0.2754425557326556,
           0.3154336307172186,
           0.3142460965652426,
           0.2655921750170284,
           0.2277182862033078,
           0.3204641781394619,
           0.2226680163020965,
           0.2771845928208852,
           0.2630333657202309,
           0.228450652506918,
           0.3553137151117614,
           0.2663970059380042,
           0.2941975355606793,
           0.2374482827151346,
           0.3616254246791124,
           0.3228435235237361,
           0.3185883539132388,
           0.3163613827802682,
           0.233027023561488,
           0.3142024073936257,
           0.2518678386519222,
           0.2218747571915343,
           0.2607179926483658,
           0.3305087609310428,
           0.2845150467069773,
           0.3043984059761048,
           0.216781956249456,
           0.2997555718812819,
           0.2784125081037119,
           0.3223897090215115,
           0.2470708788765521,
           0.3370248669586415,
           0.3064099917739425,
           0.2608611238503206,
           0.2353093466963852,
           0.2715609797339551,
           0.2907259898320908,
           0.329262111528771
          ],
          "coloraxis": "coloraxis",
          "symbol": "circle"
         },
         "mode": "markers",
         "name": "",
         "scene": "scene",
         "showlegend": false,
         "type": "scatter3d",
         "x": [
          8.803,
          -18.451,
          -18.289,
          -15.127,
          -1.391,
          0.423,
          2.152,
          -16.697,
          -10.261,
          -13.374,
          -19.51,
          -18.115,
          -23.422,
          -16.437,
          -17.462,
          -16.006,
          -11.42,
          -11.516,
          -0.813,
          -19.671,
          -0.546,
          2.173,
          -18.793,
          -21.543,
          -16.186,
          1.306,
          -1.753,
          -20.77,
          -14.055,
          -23.314,
          -10.949,
          3.587,
          0.885,
          -14.866,
          -19.804,
          -18.647,
          -7.07,
          5.714,
          -13.26,
          -7.42,
          3.147,
          -17.397,
          1.327,
          2.657,
          -22.966,
          6.296,
          5.96,
          -12.392,
          1.887,
          -3.494,
          4.698,
          3.636,
          -20.838,
          -11.38,
          5.307,
          3.733,
          3.094,
          -11.02,
          -20.814,
          1.671,
          4.599,
          -19.092,
          2.199,
          4.302,
          -3.142,
          -14.686,
          -7.375,
          -20.053,
          0.39,
          4.031,
          -2.428,
          4.191,
          -1.081,
          -15.464,
          0.93,
          6.833,
          -3.004,
          -2.047,
          -19.748,
          -4.65,
          -6.293,
          -9.2,
          0.04,
          -9.057,
          -22.458,
          4.442,
          -9.189,
          4.687,
          4.593,
          -7.887,
          -19.337,
          -10.051,
          -12.167,
          -1.202,
          -10.148,
          5.328,
          -8.766,
          4.7,
          -3.275,
          -2.339,
          -13.003,
          3.312,
          -21.981,
          -15.429,
          -17.981,
          -18.297,
          -1.51,
          5.544,
          3.754,
          3.056,
          -3.826,
          5.832,
          -17.803,
          7.458,
          -16.601,
          -21.324,
          -7.814,
          7.365,
          -16.911,
          4.197,
          -10.665,
          -22.12,
          -8.673,
          3.739,
          6.547,
          -13.678,
          -14.649,
          -9.119,
          -17.409,
          3.575,
          -23.109,
          -9.28,
          -13.786,
          -20.883,
          -1.275,
          6.908,
          6.216,
          5.392,
          -16.311,
          -0.3,
          -11.378,
          5.843,
          4.033,
          -17.248,
          6.894,
          -17.035,
          -21.66,
          -20.343,
          -23.765,
          7.944
         ],
         "y": [
          14120.497101659215,
          21745.913864969265,
          21397.876378468383,
          23650.134752328384,
          22785.121101334207,
          20833.300897480447,
          17634.576957691053,
          22699.783456848498,
          17878.155059957946,
          25521.4917586211,
          26699.401895899937,
          25219.731637396028,
          29843.844975362383,
          26137.11262948428,
          26549.635935925668,
          23217.967257830034,
          23000.064432967247,
          22842.95335136921,
          17009.504465620175,
          25452.380287009903,
          20601.01154760023,
          15836.55229239968,
          26626.264467767032,
          27486.411547879936,
          20137.710856368747,
          21582.187106830323,
          20992.52973964481,
          25665.0504681802,
          24691.52335156281,
          27896.24407961369,
          20761.001776411744,
          20691.56530594227,
          22361.50106707613,
          25053.984763716315,
          26838.50604475512,
          24278.17884240212,
          23090.03565093172,
          17562.062172354097,
          23277.954660183783,
          22920.535268749714,
          21055.64339215397,
          23831.09835449881,
          22221.51204011302,
          18875.60500710777,
          27420.739440164994,
          16199.368641012405,
          14828.669611427496,
          21925.114871189588,
          16829.44570912136,
          22012.51473013817,
          17387.665590409782,
          16449.469244979882,
          25958.907020589475,
          19828.793436691147,
          16912.454532105716,
          15317.865289219142,
          15447.403091791872,
          19672.042057098515,
          24828.865021624188,
          22145.242668346727,
          14379.002858298436,
          27357.835583653075,
          15645.942411235024,
          16260.00546576208,
          18627.20489547841,
          23380.779037761477,
          18475.487402767187,
          24748.692225793213,
          17140.41730249464,
          19392.23583398261,
          20337.4518595866,
          15564.01267886053,
          22536.668988314625,
          25753.886973654444,
          17794.70979562164,
          16037.028104363071,
          17294.505334338937,
          21645.018088042816,
          24576.01010462389,
          22632.54634550725,
          21825.824910574185,
          18408.907334462347,
          21486.95510408432,
          24107.223738757133,
          27290.739440164994,
          14629.398887144309,
          19315.06126197073,
          20500.533859155286,
          20051.6103879062,
          24204.01269102286,
          24472.083982593576,
          18942.85977410402,
          20914.63447807605,
          17707.913462079654,
          19476.65562678866,
          14930.629248754689,
          18999.725945111382,
          17071.70979562164,
          22082.73176225625,
          18285.117474599123,
          20420.938737297627,
          19557.95335136921,
          26955.56713362897,
          23726.081866961365,
          23905.668963945776,
          24362.203421288155,
          17954.725717798763,
          14457.398887144309,
          15938.571415285858,
          16365.786122812837,
          19070.12735158508,
          17208.020023814097,
          22453.941713230557,
          15172.923006514728,
          21312.822008305517,
          25871.159017496462,
          24034.04877236816,
          14984.909336438244,
          25600.234134595667,
          17452.948891044725,
          23481.037649083333,
          27777.592717951586,
          18112.137276482383,
          18209.7795122809,
          16611.611904740806,
          23556.064432967247,
          19938.365982792893,
          19215.284280549466,
          21125.94319587466,
          16140.01267886053,
          26757.170913159047,
          19733.26315949212,
          24901.576236929825,
          27110.50604475512,
          18354.10393510951,
          14705.529889759182,
          16767.733809147354,
          15059.938737297629,
          26274.33007992446,
          18027.599927555137,
          20249.87572481991,
          14281.240960757104,
          19131.010104623885,
          22278.58576226304,
          15741.73852653611,
          25396.688011669637,
          26033.80579952605,
          23148.295392840657,
          30030.393273265712,
          14535.893369675296
         ],
         "z": [
          0.4835128958537382,
          1.81144211238998,
          1.8452817605868623,
          1.550709939148073,
          0.6491288008199522,
          0.5589935396123766,
          0.6575630252100841,
          1.696602758156744,
          1.4351699109204883,
          1.3446519524617997,
          1.716889033517735,
          1.5786535303776683,
          2.2375522614975294,
          1.5233552631578948,
          1.557327001356852,
          1.6472002748196497,
          1.2520980194696203,
          1.3277535989286908,
          0.9024141448486908,
          1.7285714285714286,
          0.6341054044981538,
          0.7403484796720192,
          1.7134641407307172,
          1.8186922060766184,
          1.812149224166392,
          0.4962033674480027,
          0.7146693521315878,
          1.803317535545024,
          1.380749014454665,
          1.9059221658206429,
          1.3756849315068491,
          0.3915187376725838,
          0.5169376693766938,
          1.4556008785691874,
          1.703980945899966,
          1.658763505402161,
          0.9839589348732756,
          0.4195364238410596,
          1.3590337524818,
          0.9889789303079416,
          0.4685458920591268,
          1.703087062088103,
          0.4627477785372522,
          0.5031425736023818,
          1.8701472556894243,
          0.4456671251719395,
          0.5524632117722329,
          1.3702693487896351,
          0.7170191339375629,
          0.8252836304700161,
          0.4518970189701897,
          0.6094815825375169,
          1.857573726541555,
          1.4869505494505493,
          0.429771505376344,
          0.7345559845559846,
          0.6995257452574526,
          1.3626834381551365,
          1.853139770425388,
          0.4446721311475409,
          0.6250827266710788,
          1.7027119807758326,
          0.715650741350906,
          0.5315285572796303,
          0.9436332767402376,
          1.4877173613027876,
          1.276255004619649,
          1.8384925975773887,
          0.7941473259334005,
          0.4413956639566396,
          0.8696978944156242,
          0.6420128335021952,
          0.6323430114787306,
          1.4989809782608698,
          0.7093378607809847,
          0.4393577041339255,
          1.0461133069828723,
          0.6907181571815718,
          1.819083447332421,
          0.8707372523546606,
          0.9596774193548387,
          1.4017467248908295,
          0.5762656147271532,
          1.0871953312736011,
          1.840696117804552,
          0.623497997329773,
          1.289456450556647,
          0.391820580474934,
          0.3979261179520415,
          1.01765105227427,
          1.806527590847914,
          1.3636363636363635,
          1.3936134453781512,
          0.8339558573853991,
          1.4020967196482923,
          0.5564009262322197,
          1.362231182795699,
          0.5045840407470289,
          0.7577035355173533,
          0.9096774193548388,
          1.4858870967741935,
          0.4891195179109474,
          1.857337419135172,
          1.568627450980392,
          1.6266506602641058,
          1.62515006002401,
          0.8757215619694397,
          0.5667556742323098,
          0.6467207572684246,
          0.6521445457615671,
          0.9724957555178269,
          0.4233003074820636,
          1.7115511551155116,
          0.4522357723577235,
          1.7377426785126686,
          1.861574382921948,
          1.0289017341040465,
          0.4684139784946237,
          1.545982905982906,
          0.5044520547945206,
          1.202698462503922,
          1.840216655382532,
          1.4128380579993485,
          0.4993065187239944,
          0.431871442919317,
          1.3830144343739512,
          1.6721813725490196,
          1.3536463536463534,
          1.8076416337285903,
          0.6447146234380277,
          1.935638479972612,
          1.3254747871643748,
          1.3797634691195797,
          1.7676080299421573,
          0.7728494623655915,
          0.5290789060044011,
          0.4314569536423841,
          0.5430107526881721,
          1.4903225806451614,
          0.8056426332288402,
          1.3919376693766938,
          0.5688345988775174,
          0.436046511627907,
          1.7351135666052795,
          0.4498459431701472,
          1.541243654822335,
          1.8275746393827577,
          1.881436314363144,
          2.2614975294564807,
          0.4654471544715447
         ]
        }
       ],
       "layout": {
        "coloraxis": {
         "colorbar": {
          "title": {
           "text": "ESD"
          }
         },
         "colorscale": [
          [
           0,
           "#0d0887"
          ],
          [
           0.1111111111111111,
           "#46039f"
          ],
          [
           0.2222222222222222,
           "#7201a8"
          ],
          [
           0.3333333333333333,
           "#9c179e"
          ],
          [
           0.4444444444444444,
           "#bd3786"
          ],
          [
           0.5555555555555556,
           "#d8576b"
          ],
          [
           0.6666666666666666,
           "#ed7953"
          ],
          [
           0.7777777777777778,
           "#fb9f3a"
          ],
          [
           0.8888888888888888,
           "#fdca26"
          ],
          [
           1,
           "#f0f921"
          ]
         ]
        },
        "height": 800,
        "legend": {
         "tracegroupgap": 0
        },
        "margin": {
         "t": 60
        },
        "scene": {
         "domain": {
          "x": [
           0,
           1
          ],
          "y": [
           0,
           1
          ]
         },
         "xaxis": {
          "title": {
           "text": "CO2 emissions (corrected) [Mton]"
          }
         },
         "yaxis": {
          "title": {
           "text": "Cost [kEUR]"
          }
         },
         "zaxis": {
          "title": {
           "text": "LFC"
          }
         }
        },
        "template": {
         "data": {
          "bar": [
           {
            "error_x": {
             "color": "#2a3f5f"
            },
            "error_y": {
             "color": "#2a3f5f"
            },
            "marker": {
             "line": {
              "color": "#E5ECF6",
              "width": 0.5
             },
             "pattern": {
              "fillmode": "overlay",
              "size": 10,
              "solidity": 0.2
             }
            },
            "type": "bar"
           }
          ],
          "barpolar": [
           {
            "marker": {
             "line": {
              "color": "#E5ECF6",
              "width": 0.5
             },
             "pattern": {
              "fillmode": "overlay",
              "size": 10,
              "solidity": 0.2
             }
            },
            "type": "barpolar"
           }
          ],
          "carpet": [
           {
            "aaxis": {
             "endlinecolor": "#2a3f5f",
             "gridcolor": "white",
             "linecolor": "white",
             "minorgridcolor": "white",
             "startlinecolor": "#2a3f5f"
            },
            "baxis": {
             "endlinecolor": "#2a3f5f",
             "gridcolor": "white",
             "linecolor": "white",
             "minorgridcolor": "white",
             "startlinecolor": "#2a3f5f"
            },
            "type": "carpet"
           }
          ],
          "choropleth": [
           {
            "colorbar": {
             "outlinewidth": 0,
             "ticks": ""
            },
            "type": "choropleth"
           }
          ],
          "contour": [
           {
            "colorbar": {
             "outlinewidth": 0,
             "ticks": ""
            },
            "colorscale": [
             [
              0,
              "#0d0887"
             ],
             [
              0.1111111111111111,
              "#46039f"
             ],
             [
              0.2222222222222222,
              "#7201a8"
             ],
             [
              0.3333333333333333,
              "#9c179e"
             ],
             [
              0.4444444444444444,
              "#bd3786"
             ],
             [
              0.5555555555555556,
              "#d8576b"
             ],
             [
              0.6666666666666666,
              "#ed7953"
             ],
             [
              0.7777777777777778,
              "#fb9f3a"
             ],
             [
              0.8888888888888888,
              "#fdca26"
             ],
             [
              1,
              "#f0f921"
             ]
            ],
            "type": "contour"
           }
          ],
          "contourcarpet": [
           {
            "colorbar": {
             "outlinewidth": 0,
             "ticks": ""
            },
            "type": "contourcarpet"
           }
          ],
          "heatmap": [
           {
            "colorbar": {
             "outlinewidth": 0,
             "ticks": ""
            },
            "colorscale": [
             [
              0,
              "#0d0887"
             ],
             [
              0.1111111111111111,
              "#46039f"
             ],
             [
              0.2222222222222222,
              "#7201a8"
             ],
             [
              0.3333333333333333,
              "#9c179e"
             ],
             [
              0.4444444444444444,
              "#bd3786"
             ],
             [
              0.5555555555555556,
              "#d8576b"
             ],
             [
              0.6666666666666666,
              "#ed7953"
             ],
             [
              0.7777777777777778,
              "#fb9f3a"
             ],
             [
              0.8888888888888888,
              "#fdca26"
             ],
             [
              1,
              "#f0f921"
             ]
            ],
            "type": "heatmap"
           }
          ],
          "heatmapgl": [
           {
            "colorbar": {
             "outlinewidth": 0,
             "ticks": ""
            },
            "colorscale": [
             [
              0,
              "#0d0887"
             ],
             [
              0.1111111111111111,
              "#46039f"
             ],
             [
              0.2222222222222222,
              "#7201a8"
             ],
             [
              0.3333333333333333,
              "#9c179e"
             ],
             [
              0.4444444444444444,
              "#bd3786"
             ],
             [
              0.5555555555555556,
              "#d8576b"
             ],
             [
              0.6666666666666666,
              "#ed7953"
             ],
             [
              0.7777777777777778,
              "#fb9f3a"
             ],
             [
              0.8888888888888888,
              "#fdca26"
             ],
             [
              1,
              "#f0f921"
             ]
            ],
            "type": "heatmapgl"
           }
          ],
          "histogram": [
           {
            "marker": {
             "pattern": {
              "fillmode": "overlay",
              "size": 10,
              "solidity": 0.2
             }
            },
            "type": "histogram"
           }
          ],
          "histogram2d": [
           {
            "colorbar": {
             "outlinewidth": 0,
             "ticks": ""
            },
            "colorscale": [
             [
              0,
              "#0d0887"
             ],
             [
              0.1111111111111111,
              "#46039f"
             ],
             [
              0.2222222222222222,
              "#7201a8"
             ],
             [
              0.3333333333333333,
              "#9c179e"
             ],
             [
              0.4444444444444444,
              "#bd3786"
             ],
             [
              0.5555555555555556,
              "#d8576b"
             ],
             [
              0.6666666666666666,
              "#ed7953"
             ],
             [
              0.7777777777777778,
              "#fb9f3a"
             ],
             [
              0.8888888888888888,
              "#fdca26"
             ],
             [
              1,
              "#f0f921"
             ]
            ],
            "type": "histogram2d"
           }
          ],
          "histogram2dcontour": [
           {
            "colorbar": {
             "outlinewidth": 0,
             "ticks": ""
            },
            "colorscale": [
             [
              0,
              "#0d0887"
             ],
             [
              0.1111111111111111,
              "#46039f"
             ],
             [
              0.2222222222222222,
              "#7201a8"
             ],
             [
              0.3333333333333333,
              "#9c179e"
             ],
             [
              0.4444444444444444,
              "#bd3786"
             ],
             [
              0.5555555555555556,
              "#d8576b"
             ],
             [
              0.6666666666666666,
              "#ed7953"
             ],
             [
              0.7777777777777778,
              "#fb9f3a"
             ],
             [
              0.8888888888888888,
              "#fdca26"
             ],
             [
              1,
              "#f0f921"
             ]
            ],
            "type": "histogram2dcontour"
           }
          ],
          "mesh3d": [
           {
            "colorbar": {
             "outlinewidth": 0,
             "ticks": ""
            },
            "type": "mesh3d"
           }
          ],
          "parcoords": [
           {
            "line": {
             "colorbar": {
              "outlinewidth": 0,
              "ticks": ""
             }
            },
            "type": "parcoords"
           }
          ],
          "pie": [
           {
            "automargin": true,
            "type": "pie"
           }
          ],
          "scatter": [
           {
            "fillpattern": {
             "fillmode": "overlay",
             "size": 10,
             "solidity": 0.2
            },
            "type": "scatter"
           }
          ],
          "scatter3d": [
           {
            "line": {
             "colorbar": {
              "outlinewidth": 0,
              "ticks": ""
             }
            },
            "marker": {
             "colorbar": {
              "outlinewidth": 0,
              "ticks": ""
             }
            },
            "type": "scatter3d"
           }
          ],
          "scattercarpet": [
           {
            "marker": {
             "colorbar": {
              "outlinewidth": 0,
              "ticks": ""
             }
            },
            "type": "scattercarpet"
           }
          ],
          "scattergeo": [
           {
            "marker": {
             "colorbar": {
              "outlinewidth": 0,
              "ticks": ""
             }
            },
            "type": "scattergeo"
           }
          ],
          "scattergl": [
           {
            "marker": {
             "colorbar": {
              "outlinewidth": 0,
              "ticks": ""
             }
            },
            "type": "scattergl"
           }
          ],
          "scattermapbox": [
           {
            "marker": {
             "colorbar": {
              "outlinewidth": 0,
              "ticks": ""
             }
            },
            "type": "scattermapbox"
           }
          ],
          "scatterpolar": [
           {
            "marker": {
             "colorbar": {
              "outlinewidth": 0,
              "ticks": ""
             }
            },
            "type": "scatterpolar"
           }
          ],
          "scatterpolargl": [
           {
            "marker": {
             "colorbar": {
              "outlinewidth": 0,
              "ticks": ""
             }
            },
            "type": "scatterpolargl"
           }
          ],
          "scatterternary": [
           {
            "marker": {
             "colorbar": {
              "outlinewidth": 0,
              "ticks": ""
             }
            },
            "type": "scatterternary"
           }
          ],
          "surface": [
           {
            "colorbar": {
             "outlinewidth": 0,
             "ticks": ""
            },
            "colorscale": [
             [
              0,
              "#0d0887"
             ],
             [
              0.1111111111111111,
              "#46039f"
             ],
             [
              0.2222222222222222,
              "#7201a8"
             ],
             [
              0.3333333333333333,
              "#9c179e"
             ],
             [
              0.4444444444444444,
              "#bd3786"
             ],
             [
              0.5555555555555556,
              "#d8576b"
             ],
             [
              0.6666666666666666,
              "#ed7953"
             ],
             [
              0.7777777777777778,
              "#fb9f3a"
             ],
             [
              0.8888888888888888,
              "#fdca26"
             ],
             [
              1,
              "#f0f921"
             ]
            ],
            "type": "surface"
           }
          ],
          "table": [
           {
            "cells": {
             "fill": {
              "color": "#EBF0F8"
             },
             "line": {
              "color": "white"
             }
            },
            "header": {
             "fill": {
              "color": "#C8D4E3"
             },
             "line": {
              "color": "white"
             }
            },
            "type": "table"
           }
          ]
         },
         "layout": {
          "annotationdefaults": {
           "arrowcolor": "#2a3f5f",
           "arrowhead": 0,
           "arrowwidth": 1
          },
          "autotypenumbers": "strict",
          "coloraxis": {
           "colorbar": {
            "outlinewidth": 0,
            "ticks": ""
           }
          },
          "colorscale": {
           "diverging": [
            [
             0,
             "#8e0152"
            ],
            [
             0.1,
             "#c51b7d"
            ],
            [
             0.2,
             "#de77ae"
            ],
            [
             0.3,
             "#f1b6da"
            ],
            [
             0.4,
             "#fde0ef"
            ],
            [
             0.5,
             "#f7f7f7"
            ],
            [
             0.6,
             "#e6f5d0"
            ],
            [
             0.7,
             "#b8e186"
            ],
            [
             0.8,
             "#7fbc41"
            ],
            [
             0.9,
             "#4d9221"
            ],
            [
             1,
             "#276419"
            ]
           ],
           "sequential": [
            [
             0,
             "#0d0887"
            ],
            [
             0.1111111111111111,
             "#46039f"
            ],
            [
             0.2222222222222222,
             "#7201a8"
            ],
            [
             0.3333333333333333,
             "#9c179e"
            ],
            [
             0.4444444444444444,
             "#bd3786"
            ],
            [
             0.5555555555555556,
             "#d8576b"
            ],
            [
             0.6666666666666666,
             "#ed7953"
            ],
            [
             0.7777777777777778,
             "#fb9f3a"
            ],
            [
             0.8888888888888888,
             "#fdca26"
            ],
            [
             1,
             "#f0f921"
            ]
           ],
           "sequentialminus": [
            [
             0,
             "#0d0887"
            ],
            [
             0.1111111111111111,
             "#46039f"
            ],
            [
             0.2222222222222222,
             "#7201a8"
            ],
            [
             0.3333333333333333,
             "#9c179e"
            ],
            [
             0.4444444444444444,
             "#bd3786"
            ],
            [
             0.5555555555555556,
             "#d8576b"
            ],
            [
             0.6666666666666666,
             "#ed7953"
            ],
            [
             0.7777777777777778,
             "#fb9f3a"
            ],
            [
             0.8888888888888888,
             "#fdca26"
            ],
            [
             1,
             "#f0f921"
            ]
           ]
          },
          "colorway": [
           "#636efa",
           "#EF553B",
           "#00cc96",
           "#ab63fa",
           "#FFA15A",
           "#19d3f3",
           "#FF6692",
           "#B6E880",
           "#FF97FF",
           "#FECB52"
          ],
          "font": {
           "color": "#2a3f5f"
          },
          "geo": {
           "bgcolor": "white",
           "lakecolor": "white",
           "landcolor": "#E5ECF6",
           "showlakes": true,
           "showland": true,
           "subunitcolor": "white"
          },
          "hoverlabel": {
           "align": "left"
          },
          "hovermode": "closest",
          "mapbox": {
           "style": "light"
          },
          "paper_bgcolor": "white",
          "plot_bgcolor": "#E5ECF6",
          "polar": {
           "angularaxis": {
            "gridcolor": "white",
            "linecolor": "white",
            "ticks": ""
           },
           "bgcolor": "#E5ECF6",
           "radialaxis": {
            "gridcolor": "white",
            "linecolor": "white",
            "ticks": ""
           }
          },
          "scene": {
           "xaxis": {
            "backgroundcolor": "#E5ECF6",
            "gridcolor": "white",
            "gridwidth": 2,
            "linecolor": "white",
            "showbackground": true,
            "ticks": "",
            "zerolinecolor": "white"
           },
           "yaxis": {
            "backgroundcolor": "#E5ECF6",
            "gridcolor": "white",
            "gridwidth": 2,
            "linecolor": "white",
            "showbackground": true,
            "ticks": "",
            "zerolinecolor": "white"
           },
           "zaxis": {
            "backgroundcolor": "#E5ECF6",
            "gridcolor": "white",
            "gridwidth": 2,
            "linecolor": "white",
            "showbackground": true,
            "ticks": "",
            "zerolinecolor": "white"
           }
          },
          "shapedefaults": {
           "line": {
            "color": "#2a3f5f"
           }
          },
          "ternary": {
           "aaxis": {
            "gridcolor": "white",
            "linecolor": "white",
            "ticks": ""
           },
           "baxis": {
            "gridcolor": "white",
            "linecolor": "white",
            "ticks": ""
           },
           "bgcolor": "#E5ECF6",
           "caxis": {
            "gridcolor": "white",
            "linecolor": "white",
            "ticks": ""
           }
          },
          "title": {
           "x": 0.05
          },
          "xaxis": {
           "automargin": true,
           "gridcolor": "white",
           "linecolor": "white",
           "ticks": "",
           "title": {
            "standoff": 15
           },
           "zerolinecolor": "white",
           "zerolinewidth": 2
          },
          "yaxis": {
           "automargin": true,
           "gridcolor": "white",
           "linecolor": "white",
           "ticks": "",
           "title": {
            "standoff": 15
           },
           "zerolinecolor": "white",
           "zerolinewidth": 2
          }
         }
        }
       }
      }
     },
     "metadata": {},
     "output_type": "display_data"
    }
   ],
   "source": [
    "import pandas as pd\n",
    "import plotly.express as px\n",
    "\n",
    "# Load reference data from the paper, no index column and space separated\n",
    "ref = pd.read_csv('giudicarie-reference.csv', sep=' ', header=None,\n",
    "                  names=['CO2 emissions (corrected) [Mton]', 'Cost [kEUR]',\n",
    "                         'LFC', 'ESD'],\n",
    "                  index_col=False)\n",
    "\n",
    "# Cast results to DataFrame\n",
    "df = pd.DataFrame(\n",
    "    ref,\n",
    "    columns=[\n",
    "        'CO2 emissions (corrected) [Mton]',\n",
    "        'Cost [kEUR]',\n",
    "        'LFC',\n",
    "        'ESD'\n",
    "    ]\n",
    ") \n",
    "# Define plot\n",
    "fig = px.scatter_3d(\n",
    "    df,\n",
    "    x='CO2 emissions (corrected) [Mton]',\n",
    "    y='Cost [kEUR]',\n",
    "    z='LFC',\n",
    "    color='ESD',\n",
    "    height=800\n",
    ")\n",
    "# Show plot\n",
    "fig.show()"
   ]
  },
  {
   "cell_type": "code",
   "execution_count": 5,
   "metadata": {},
   "outputs": [
    {
     "data": {
      "application/vnd.plotly.v1+json": {
       "config": {
        "plotlyServerURL": "https://plot.ly"
       },
       "data": [
        {
         "hovertemplate": "CO2 emissions (corrected) [Mton]=%{x}<br>Cost [kEUR]=%{y}<br>LFC=%{z}<br>ESD=%{marker.color}<extra></extra>",
         "legendgroup": "",
         "marker": {
          "color": [
           25.82950895510679,
           25.56414277233841,
           17.450312847133848,
           17.37735771115844,
           17.510041588116014,
           17.322493398543788,
           25.4376149614182,
           24.1062808201264,
           18.939281427499346,
           25.15079242299961,
           22.952343595194765,
           18.715087632205822,
           22.75901920304535,
           24.00372646666176,
           23.090366061557418,
           18.38414184115951,
           18.562451646543565,
           18.2997144305995,
           19.155204934159375,
           19.050218294139906,
           22.447980114865267,
           25.23991983107533,
           25.48847838963999,
           25.158815093563856,
           23.209529231552395,
           22.555775468207344,
           23.405127255332854,
           19.310721120043986,
           20.63794904279685,
           21.9132884043459,
           23.58255884614959,
           22.371465961377922,
           20.068739983378066,
           22.8666067415146,
           19.55923285389771,
           23.74887905537667,
           20.279994648485037,
           23.350461226131365,
           23.72474582265838,
           23.43355001280347,
           21.123458555453166,
           24.537789400091988,
           20.734744996734097,
           22.215765240159264,
           23.544089445097445,
           23.837898318170765,
           23.300153419499967,
           25.362511048017424,
           21.597081142854968,
           24.775936885027168,
           23.25503651887426,
           23.868843923690815,
           23.671558561619708,
           19.875268648340928,
           17.866557266082275,
           24.297962159302987,
           24.244050989796577,
           18.143742021621634,
           23.75158950525007,
           22.228047199529087,
           22.1210027505946,
           20.371322106841482,
           22.305896225586846,
           20.81337170433889,
           23.905612982879795,
           24.35841354054957,
           23.551818319664378,
           20.34880287106807,
           22.426231334735633,
           24.422223028997276,
           21.538318294684917,
           19.360300777188268,
           21.018321902326612,
           25.715285670908926,
           24.94675042054519,
           17.71839534100271,
           25.1476494765978,
           18.053663952943925,
           20.52697682394667,
           21.77629436644515,
           25.01463647216957,
           21.619881871368896,
           22.015672599805416,
           25.286077552355515,
           19.901235168389288,
           20.912113499202366,
           19.647840044081672,
           25.292508068849653,
           21.753875946737335,
           20.13407812697233,
           19.715263071668986,
           17.623276959448873,
           24.870045117375188,
           24.362955313729532,
           19.582433914409137,
           22.279588685246672,
           25.781909295409086,
           19.79081821841874,
           21.731588521430847,
           24.715404593942992
          ],
          "coloraxis": "coloraxis",
          "symbol": "circle"
         },
         "mode": "markers",
         "name": "",
         "scene": "scene",
         "showlegend": false,
         "type": "scatter3d",
         "x": [
          -19.973,
          -20.566,
          5.165,
          5.414,
          5.236,
          5.34,
          -20.408,
          -13.091,
          2.781,
          -17.97,
          -7.2,
          3.241,
          -7.466,
          -12.614,
          -8.121,
          3.612,
          3.066,
          4.079,
          2.014,
          2.343,
          -6.687,
          -19.089,
          -19.94,
          -16.638,
          -9.39,
          -6.526,
          -9.353,
          1.78,
          -0.653,
          -4.602,
          -10.485,
          -5.122,
          -0.133,
          -7.678,
          1.421,
          -11.01,
          0.247,
          -8.998,
          -11.38,
          -9.943,
          -2.581,
          -15.436,
          -0.95,
          -5.484,
          -10.15,
          -12.129,
          -8.409,
          -19.554,
          -3.749,
          -14.36,
          -8.748,
          -11.888,
          -10.665,
          0.509,
          4.513,
          -13.954,
          -13.727,
          3.901,
          -11.57,
          -5.892,
          -4.964,
          -0.346,
          -6.25,
          -1.644,
          -12.18,
          -13.485,
          -10.868,
          0.09,
          -5.668,
          -14.961,
          -3.404,
          1.845,
          -1.835,
          -20.078,
          -16.282,
          4.919,
          -18.591,
          4.099,
          -1.284,
          -4.138,
          -15.995,
          -3.121,
          -4.692,
          -18.882,
          0.77,
          -1.785,
          1.617,
          -19.528,
          -4.33,
          -0.167,
          0.996,
          4.854,
          -14.896,
          -14.411,
          1.18,
          -6.21,
          -20.306,
          0.835,
          -4.147,
          -15.276
         ],
         "y": [
          27495.40462460559,
          16327.5513389508,
          8116.254719581206,
          8756.002096629105,
          22851.360392599257,
          12939.024705060368,
          30226.408095011084,
          26849.47280960783,
          18616.7821139864,
          29168.584579352377,
          23553.39461098241,
          9621.995736983827,
          15632.190059850422,
          13397.515695873895,
          13343.106744803696,
          9932.212024536777,
          19105.61289584551,
          21519.952636605267,
          9685.8819351257,
          22615.14647062023,
          12252.547713791933,
          27859.10446756985,
          28247.717094822354,
          30027.409589727205,
          11937.347446323547,
          23344.256460944587,
          17274.189530337753,
          24523.73336424148,
          10535.602345261426,
          15148.538898930816,
          26333.126116751377,
          24142.263002003303,
          24914.00618516698,
          20608.43392477138,
          17551.857347495286,
          16498.95362679651,
          10724.153063184945,
          15573.255319216225,
          24917.971269859852,
          11784.591713781116,
          21186.261946134615,
          27510.606686656058,
          22676.54566249217,
          13523.08416977512,
          22069.47699627801,
          16869.203840049904,
          23234.06680862597,
          20086.358496218265,
          22020.30654615847,
          25680.512226637817,
          12206.8656235414,
          23046.068407338782,
          26321.84291553844,
          13335.305948839856,
          8582.902970392426,
          27155.939202503563,
          14032.398469556869,
          12946.860617801894,
          13484.68062329701,
          16246.925217245256,
          26023.814885166983,
          19816.458886197222,
          11106.405825491334,
          20716.231276273185,
          12661.93858795219,
          24914.1011935243,
          17722.8000928825,
          11630.739279202538,
          11533.04272500932,
          25323.075496642934,
          25690.621922649207,
          9483.750487952188,
          19913.234935385604,
          13808.073752611263,
          15500.161636978803,
          8137.766205921336,
          27484.038283457754,
          10755.246985572807,
          10559.616462334869,
          12533.877100968773,
          16130.679428432191,
          14105.12456100569,
          11221.824800713803,
          13988.478217621156,
          8832.49047632905,
          19392.71093081773,
          19451.23349584551,
          18760.199823059236,
          12674.425657308107,
          11327.805335087896,
          10078.518609026287,
          8854.203770071537,
          23991.69401418517,
          13846.183537747103,
          20397.011146134617,
          23164.67437811211,
          14431.383886976731,
          13042.727744738586,
          20681.038143199505,
          18744.589355743556
         ],
         "z": [
          2.0989682842949944,
          2.1268628200229274,
          0.4950038431975403,
          0.4844170834936514,
          0.47819433817903595,
          0.48844375963020026,
          2.150848765432099,
          1.6499233128834356,
          0.6278181123423768,
          1.9723926380368102,
          1.2700114898506318,
          0.5972487581199847,
          1.292420161600616,
          1.6229823212913144,
          1.320076481835564,
          0.5724111578142912,
          0.6222993827160493,
          0.5481651376146789,
          0.665647688192587,
          0.6523572249904178,
          1.2264367816091952,
          2.059344894026975,
          2.1031441717791415,
          1.8781512605042017,
          1.4180138568129332,
          1.2139854795567444,
          1.4009938837920488,
          0.6886503067484664,
          0.841743119266055,
          1.0926138538078838,
          1.4798619102416573,
          1.1306839893007261,
          0.8228483211115399,
          1.2889908256880733,
          0.7102946804439343,
          1.5059228123805888,
          0.788527724665392,
          1.378585086042065,
          1.5440215301806997,
          1.430645777607948,
          0.954110898661568,
          1.8191981495759444,
          0.8622800306044376,
          1.140183346065699,
          1.4455483377913643,
          1.5976126299576434,
          1.3417431192660552,
          2.0717024539877302,
          1.0386973180076629,
          1.7325181505540699,
          1.3608562691131498,
          1.577632590315142,
          1.4807030951471152,
          0.7749615975422427,
          0.5328719723183392,
          1.7151095732410613,
          1.6960030745580323,
          0.5704930662557781,
          1.5574778931180318,
          1.1762452107279693,
          1.120260436614324,
          0.8146024464831804,
          1.1938697318007663,
          0.9035960214231064,
          1.59684857801691,
          1.6683225066870464,
          1.5136696187909124,
          0.8012255840674072,
          1.1636085626911314,
          1.7631075392269422,
          1.0156847742922723,
          0.6898272552783109,
          0.918867202449292,
          2.106269113149847,
          1.8579088471849865,
          0.5082533589251439,
          2.0234886407393144,
          0.5538461538461538,
          0.8935595834940224,
          1.0647261585599388,
          1.8419441255262152,
          1.0022944550669217,
          1.0982415902140672,
          2.020275439938791,
          0.749043611323642,
          0.9098204050439436,
          0.7016067329762815,
          2.0690448791714613,
          1.073918039065492,
          0.8180069257406695,
          0.7346080305927343,
          0.5159922928709056,
          1.767966360856269,
          1.7485560261840585,
          0.7225831104317921,
          1.2047637341529005,
          2.131901840490798,
          0.7446401225114854,
          1.0612792033703562,
          1.7895944912012243
         ]
        }
       ],
       "layout": {
        "coloraxis": {
         "colorbar": {
          "title": {
           "text": "ESD"
          }
         },
         "colorscale": [
          [
           0,
           "#0d0887"
          ],
          [
           0.1111111111111111,
           "#46039f"
          ],
          [
           0.2222222222222222,
           "#7201a8"
          ],
          [
           0.3333333333333333,
           "#9c179e"
          ],
          [
           0.4444444444444444,
           "#bd3786"
          ],
          [
           0.5555555555555556,
           "#d8576b"
          ],
          [
           0.6666666666666666,
           "#ed7953"
          ],
          [
           0.7777777777777778,
           "#fb9f3a"
          ],
          [
           0.8888888888888888,
           "#fdca26"
          ],
          [
           1,
           "#f0f921"
          ]
         ]
        },
        "height": 800,
        "legend": {
         "tracegroupgap": 0
        },
        "margin": {
         "t": 60
        },
        "scene": {
         "domain": {
          "x": [
           0,
           1
          ],
          "y": [
           0,
           1
          ]
         },
         "xaxis": {
          "title": {
           "text": "CO2 emissions (corrected) [Mton]"
          }
         },
         "yaxis": {
          "title": {
           "text": "Cost [kEUR]"
          }
         },
         "zaxis": {
          "title": {
           "text": "LFC"
          }
         }
        },
        "template": {
         "data": {
          "bar": [
           {
            "error_x": {
             "color": "#2a3f5f"
            },
            "error_y": {
             "color": "#2a3f5f"
            },
            "marker": {
             "line": {
              "color": "#E5ECF6",
              "width": 0.5
             },
             "pattern": {
              "fillmode": "overlay",
              "size": 10,
              "solidity": 0.2
             }
            },
            "type": "bar"
           }
          ],
          "barpolar": [
           {
            "marker": {
             "line": {
              "color": "#E5ECF6",
              "width": 0.5
             },
             "pattern": {
              "fillmode": "overlay",
              "size": 10,
              "solidity": 0.2
             }
            },
            "type": "barpolar"
           }
          ],
          "carpet": [
           {
            "aaxis": {
             "endlinecolor": "#2a3f5f",
             "gridcolor": "white",
             "linecolor": "white",
             "minorgridcolor": "white",
             "startlinecolor": "#2a3f5f"
            },
            "baxis": {
             "endlinecolor": "#2a3f5f",
             "gridcolor": "white",
             "linecolor": "white",
             "minorgridcolor": "white",
             "startlinecolor": "#2a3f5f"
            },
            "type": "carpet"
           }
          ],
          "choropleth": [
           {
            "colorbar": {
             "outlinewidth": 0,
             "ticks": ""
            },
            "type": "choropleth"
           }
          ],
          "contour": [
           {
            "colorbar": {
             "outlinewidth": 0,
             "ticks": ""
            },
            "colorscale": [
             [
              0,
              "#0d0887"
             ],
             [
              0.1111111111111111,
              "#46039f"
             ],
             [
              0.2222222222222222,
              "#7201a8"
             ],
             [
              0.3333333333333333,
              "#9c179e"
             ],
             [
              0.4444444444444444,
              "#bd3786"
             ],
             [
              0.5555555555555556,
              "#d8576b"
             ],
             [
              0.6666666666666666,
              "#ed7953"
             ],
             [
              0.7777777777777778,
              "#fb9f3a"
             ],
             [
              0.8888888888888888,
              "#fdca26"
             ],
             [
              1,
              "#f0f921"
             ]
            ],
            "type": "contour"
           }
          ],
          "contourcarpet": [
           {
            "colorbar": {
             "outlinewidth": 0,
             "ticks": ""
            },
            "type": "contourcarpet"
           }
          ],
          "heatmap": [
           {
            "colorbar": {
             "outlinewidth": 0,
             "ticks": ""
            },
            "colorscale": [
             [
              0,
              "#0d0887"
             ],
             [
              0.1111111111111111,
              "#46039f"
             ],
             [
              0.2222222222222222,
              "#7201a8"
             ],
             [
              0.3333333333333333,
              "#9c179e"
             ],
             [
              0.4444444444444444,
              "#bd3786"
             ],
             [
              0.5555555555555556,
              "#d8576b"
             ],
             [
              0.6666666666666666,
              "#ed7953"
             ],
             [
              0.7777777777777778,
              "#fb9f3a"
             ],
             [
              0.8888888888888888,
              "#fdca26"
             ],
             [
              1,
              "#f0f921"
             ]
            ],
            "type": "heatmap"
           }
          ],
          "heatmapgl": [
           {
            "colorbar": {
             "outlinewidth": 0,
             "ticks": ""
            },
            "colorscale": [
             [
              0,
              "#0d0887"
             ],
             [
              0.1111111111111111,
              "#46039f"
             ],
             [
              0.2222222222222222,
              "#7201a8"
             ],
             [
              0.3333333333333333,
              "#9c179e"
             ],
             [
              0.4444444444444444,
              "#bd3786"
             ],
             [
              0.5555555555555556,
              "#d8576b"
             ],
             [
              0.6666666666666666,
              "#ed7953"
             ],
             [
              0.7777777777777778,
              "#fb9f3a"
             ],
             [
              0.8888888888888888,
              "#fdca26"
             ],
             [
              1,
              "#f0f921"
             ]
            ],
            "type": "heatmapgl"
           }
          ],
          "histogram": [
           {
            "marker": {
             "pattern": {
              "fillmode": "overlay",
              "size": 10,
              "solidity": 0.2
             }
            },
            "type": "histogram"
           }
          ],
          "histogram2d": [
           {
            "colorbar": {
             "outlinewidth": 0,
             "ticks": ""
            },
            "colorscale": [
             [
              0,
              "#0d0887"
             ],
             [
              0.1111111111111111,
              "#46039f"
             ],
             [
              0.2222222222222222,
              "#7201a8"
             ],
             [
              0.3333333333333333,
              "#9c179e"
             ],
             [
              0.4444444444444444,
              "#bd3786"
             ],
             [
              0.5555555555555556,
              "#d8576b"
             ],
             [
              0.6666666666666666,
              "#ed7953"
             ],
             [
              0.7777777777777778,
              "#fb9f3a"
             ],
             [
              0.8888888888888888,
              "#fdca26"
             ],
             [
              1,
              "#f0f921"
             ]
            ],
            "type": "histogram2d"
           }
          ],
          "histogram2dcontour": [
           {
            "colorbar": {
             "outlinewidth": 0,
             "ticks": ""
            },
            "colorscale": [
             [
              0,
              "#0d0887"
             ],
             [
              0.1111111111111111,
              "#46039f"
             ],
             [
              0.2222222222222222,
              "#7201a8"
             ],
             [
              0.3333333333333333,
              "#9c179e"
             ],
             [
              0.4444444444444444,
              "#bd3786"
             ],
             [
              0.5555555555555556,
              "#d8576b"
             ],
             [
              0.6666666666666666,
              "#ed7953"
             ],
             [
              0.7777777777777778,
              "#fb9f3a"
             ],
             [
              0.8888888888888888,
              "#fdca26"
             ],
             [
              1,
              "#f0f921"
             ]
            ],
            "type": "histogram2dcontour"
           }
          ],
          "mesh3d": [
           {
            "colorbar": {
             "outlinewidth": 0,
             "ticks": ""
            },
            "type": "mesh3d"
           }
          ],
          "parcoords": [
           {
            "line": {
             "colorbar": {
              "outlinewidth": 0,
              "ticks": ""
             }
            },
            "type": "parcoords"
           }
          ],
          "pie": [
           {
            "automargin": true,
            "type": "pie"
           }
          ],
          "scatter": [
           {
            "fillpattern": {
             "fillmode": "overlay",
             "size": 10,
             "solidity": 0.2
            },
            "type": "scatter"
           }
          ],
          "scatter3d": [
           {
            "line": {
             "colorbar": {
              "outlinewidth": 0,
              "ticks": ""
             }
            },
            "marker": {
             "colorbar": {
              "outlinewidth": 0,
              "ticks": ""
             }
            },
            "type": "scatter3d"
           }
          ],
          "scattercarpet": [
           {
            "marker": {
             "colorbar": {
              "outlinewidth": 0,
              "ticks": ""
             }
            },
            "type": "scattercarpet"
           }
          ],
          "scattergeo": [
           {
            "marker": {
             "colorbar": {
              "outlinewidth": 0,
              "ticks": ""
             }
            },
            "type": "scattergeo"
           }
          ],
          "scattergl": [
           {
            "marker": {
             "colorbar": {
              "outlinewidth": 0,
              "ticks": ""
             }
            },
            "type": "scattergl"
           }
          ],
          "scattermapbox": [
           {
            "marker": {
             "colorbar": {
              "outlinewidth": 0,
              "ticks": ""
             }
            },
            "type": "scattermapbox"
           }
          ],
          "scatterpolar": [
           {
            "marker": {
             "colorbar": {
              "outlinewidth": 0,
              "ticks": ""
             }
            },
            "type": "scatterpolar"
           }
          ],
          "scatterpolargl": [
           {
            "marker": {
             "colorbar": {
              "outlinewidth": 0,
              "ticks": ""
             }
            },
            "type": "scatterpolargl"
           }
          ],
          "scatterternary": [
           {
            "marker": {
             "colorbar": {
              "outlinewidth": 0,
              "ticks": ""
             }
            },
            "type": "scatterternary"
           }
          ],
          "surface": [
           {
            "colorbar": {
             "outlinewidth": 0,
             "ticks": ""
            },
            "colorscale": [
             [
              0,
              "#0d0887"
             ],
             [
              0.1111111111111111,
              "#46039f"
             ],
             [
              0.2222222222222222,
              "#7201a8"
             ],
             [
              0.3333333333333333,
              "#9c179e"
             ],
             [
              0.4444444444444444,
              "#bd3786"
             ],
             [
              0.5555555555555556,
              "#d8576b"
             ],
             [
              0.6666666666666666,
              "#ed7953"
             ],
             [
              0.7777777777777778,
              "#fb9f3a"
             ],
             [
              0.8888888888888888,
              "#fdca26"
             ],
             [
              1,
              "#f0f921"
             ]
            ],
            "type": "surface"
           }
          ],
          "table": [
           {
            "cells": {
             "fill": {
              "color": "#EBF0F8"
             },
             "line": {
              "color": "white"
             }
            },
            "header": {
             "fill": {
              "color": "#C8D4E3"
             },
             "line": {
              "color": "white"
             }
            },
            "type": "table"
           }
          ]
         },
         "layout": {
          "annotationdefaults": {
           "arrowcolor": "#2a3f5f",
           "arrowhead": 0,
           "arrowwidth": 1
          },
          "autotypenumbers": "strict",
          "coloraxis": {
           "colorbar": {
            "outlinewidth": 0,
            "ticks": ""
           }
          },
          "colorscale": {
           "diverging": [
            [
             0,
             "#8e0152"
            ],
            [
             0.1,
             "#c51b7d"
            ],
            [
             0.2,
             "#de77ae"
            ],
            [
             0.3,
             "#f1b6da"
            ],
            [
             0.4,
             "#fde0ef"
            ],
            [
             0.5,
             "#f7f7f7"
            ],
            [
             0.6,
             "#e6f5d0"
            ],
            [
             0.7,
             "#b8e186"
            ],
            [
             0.8,
             "#7fbc41"
            ],
            [
             0.9,
             "#4d9221"
            ],
            [
             1,
             "#276419"
            ]
           ],
           "sequential": [
            [
             0,
             "#0d0887"
            ],
            [
             0.1111111111111111,
             "#46039f"
            ],
            [
             0.2222222222222222,
             "#7201a8"
            ],
            [
             0.3333333333333333,
             "#9c179e"
            ],
            [
             0.4444444444444444,
             "#bd3786"
            ],
            [
             0.5555555555555556,
             "#d8576b"
            ],
            [
             0.6666666666666666,
             "#ed7953"
            ],
            [
             0.7777777777777778,
             "#fb9f3a"
            ],
            [
             0.8888888888888888,
             "#fdca26"
            ],
            [
             1,
             "#f0f921"
            ]
           ],
           "sequentialminus": [
            [
             0,
             "#0d0887"
            ],
            [
             0.1111111111111111,
             "#46039f"
            ],
            [
             0.2222222222222222,
             "#7201a8"
            ],
            [
             0.3333333333333333,
             "#9c179e"
            ],
            [
             0.4444444444444444,
             "#bd3786"
            ],
            [
             0.5555555555555556,
             "#d8576b"
            ],
            [
             0.6666666666666666,
             "#ed7953"
            ],
            [
             0.7777777777777778,
             "#fb9f3a"
            ],
            [
             0.8888888888888888,
             "#fdca26"
            ],
            [
             1,
             "#f0f921"
            ]
           ]
          },
          "colorway": [
           "#636efa",
           "#EF553B",
           "#00cc96",
           "#ab63fa",
           "#FFA15A",
           "#19d3f3",
           "#FF6692",
           "#B6E880",
           "#FF97FF",
           "#FECB52"
          ],
          "font": {
           "color": "#2a3f5f"
          },
          "geo": {
           "bgcolor": "white",
           "lakecolor": "white",
           "landcolor": "#E5ECF6",
           "showlakes": true,
           "showland": true,
           "subunitcolor": "white"
          },
          "hoverlabel": {
           "align": "left"
          },
          "hovermode": "closest",
          "mapbox": {
           "style": "light"
          },
          "paper_bgcolor": "white",
          "plot_bgcolor": "#E5ECF6",
          "polar": {
           "angularaxis": {
            "gridcolor": "white",
            "linecolor": "white",
            "ticks": ""
           },
           "bgcolor": "#E5ECF6",
           "radialaxis": {
            "gridcolor": "white",
            "linecolor": "white",
            "ticks": ""
           }
          },
          "scene": {
           "xaxis": {
            "backgroundcolor": "#E5ECF6",
            "gridcolor": "white",
            "gridwidth": 2,
            "linecolor": "white",
            "showbackground": true,
            "ticks": "",
            "zerolinecolor": "white"
           },
           "yaxis": {
            "backgroundcolor": "#E5ECF6",
            "gridcolor": "white",
            "gridwidth": 2,
            "linecolor": "white",
            "showbackground": true,
            "ticks": "",
            "zerolinecolor": "white"
           },
           "zaxis": {
            "backgroundcolor": "#E5ECF6",
            "gridcolor": "white",
            "gridwidth": 2,
            "linecolor": "white",
            "showbackground": true,
            "ticks": "",
            "zerolinecolor": "white"
           }
          },
          "shapedefaults": {
           "line": {
            "color": "#2a3f5f"
           }
          },
          "ternary": {
           "aaxis": {
            "gridcolor": "white",
            "linecolor": "white",
            "ticks": ""
           },
           "baxis": {
            "gridcolor": "white",
            "linecolor": "white",
            "ticks": ""
           },
           "bgcolor": "#E5ECF6",
           "caxis": {
            "gridcolor": "white",
            "linecolor": "white",
            "ticks": ""
           }
          },
          "title": {
           "x": 0.05
          },
          "xaxis": {
           "automargin": true,
           "gridcolor": "white",
           "linecolor": "white",
           "ticks": "",
           "title": {
            "standoff": 15
           },
           "zerolinecolor": "white",
           "zerolinewidth": 2
          },
          "yaxis": {
           "automargin": true,
           "gridcolor": "white",
           "linecolor": "white",
           "ticks": "",
           "title": {
            "standoff": 15
           },
           "zerolinecolor": "white",
           "zerolinewidth": 2
          }
         }
        }
       }
      }
     },
     "metadata": {},
     "output_type": "display_data"
    }
   ],
   "source": [
    "\n",
    "# Get the pareto-front\n",
    "F = res.F\n",
    "\n",
    "# Cast results to DataFrame\n",
    "df = pd.DataFrame(\n",
    "    F,\n",
    "    columns=[\n",
    "        'CO2 emissions (corrected) [Mton]',\n",
    "        'Cost [kEUR]',\n",
    "        'LFC',\n",
    "        'ESD'\n",
    "    ]\n",
    ") \n",
    "# Define plot\n",
    "fig = px.scatter_3d(\n",
    "    df,\n",
    "    x='CO2 emissions (corrected) [Mton]',\n",
    "    y='Cost [kEUR]',\n",
    "    z='LFC',\n",
    "    color='ESD',\n",
    "    height=800\n",
    ")\n",
    "# Show plot\n",
    "fig.show()\n"
   ]
  },
  {
   "cell_type": "markdown",
   "metadata": {},
   "source": [
    "### Convergence analysis\n",
    "\n",
    "The results of the paper {cite:t}`MAHBUB2016140` are used as reference to\n",
    "measure the quality of the solution. We implement the Inverted Generational\n",
    "Distance (IGD) {cite:t}`COELLOCOELLO2004688` to quantify the distance from any\n",
    "point in the set of solutions $Z$ to the closest point in the set of\n",
    "reference solutions $A$.\n",
    "\n",
    "$$\n",
    "IGD(A) = \\frac{1}{|Z|} \\left( \\sum_{i=1}^{|Z|} \\hat{d}_i ^{\\,p} \\right) ^{1/p}\n",
    "$$\n",
    "\n",
    "where $\\hat{d}_i$ represents the Euclidean distance ($p=2$) from $z_i$ to its\n",
    "nearest reference point in $A$.\n",
    "\n",
    "The lower the value of the IGD, the closer the set $A$ to the reference set\n",
    "$Z$."
   ]
  },
  {
   "cell_type": "code",
   "execution_count": 6,
   "metadata": {},
   "outputs": [
    {
     "name": "stdout",
     "output_type": "stream",
     "text": [
      "IGD 1070.1242082527372\n"
     ]
    }
   ],
   "source": [
    "from pymoo.indicators.igd import IGD\n",
    "\n",
    "ind = IGD(res.F)\n",
    "print(\"IGD\", ind(ref.values))"
   ]
  },
  {
   "cell_type": "markdown",
   "metadata": {},
   "source": [
    "## References\n",
    "\n",
    "```{bibliography}\n",
    ":style: unsrt\n",
    "```"
   ]
  }
 ],
 "metadata": {
  "kernelspec": {
   "display_name": "moea",
   "language": "python",
   "name": "python3"
  },
  "language_info": {
   "codemirror_mode": {
    "name": "ipython",
    "version": 3
   },
   "file_extension": ".py",
   "mimetype": "text/x-python",
   "name": "python",
   "nbconvert_exporter": "python",
   "pygments_lexer": "ipython3",
   "version": "3.10.15"
  }
 },
 "nbformat": 4,
 "nbformat_minor": 2
}
