{
 "cells": [
  {
   "cell_type": "markdown",
   "metadata": {},
   "source": [
    "# Test the MOEA\n",
    "\n",
    "Author: Michele Urbani ([murbani@fbk.eu](mailto:murbani@fbk.eu))\n",
    "\n",
    "Date: September 5th, 2024\n",
    "\n",
    "Test a basic version of the MOEA and plot the Pareto frontier."
   ]
  },
  {
   "cell_type": "code",
   "execution_count": 3,
   "metadata": {},
   "outputs": [],
   "source": [
    "# Add moea to the path\n",
    "import sys\n",
    "sys.path.append('..')\n",
    "\n",
    "from moea.models import get_model\n",
    "from moea.algorithms import get_algorithm\n",
    "\n",
    "from pymoo.optimize import minimize"
   ]
  },
  {
   "cell_type": "code",
   "execution_count": 4,
   "metadata": {},
   "outputs": [],
   "source": [
    "# Define the model and algorithm\n",
    "problem = get_model('aalborga')\n",
    "algorithm = get_algorithm('base_algorithm', pop_size=25)"
   ]
  },
  {
   "cell_type": "code",
   "execution_count": null,
   "metadata": {},
   "outputs": [],
   "source": [
    "# Run the optimization\n",
    "res = minimize(\n",
    "    problem,\n",
    "    algorithm,\n",
    "    ('n_gen', 20),\n",
    "    seed=123,\n",
    "    verbose=True\n",
    ")"
   ]
  },
  {
   "cell_type": "code",
   "execution_count": 4,
   "metadata": {},
   "outputs": [
    {
     "data": {
      "text/plain": [
       "<pymoo.visualization.scatter.Scatter at 0x20506206320>"
      ]
     },
     "execution_count": 4,
     "metadata": {},
     "output_type": "execute_result"
    },
    {
     "data": {
      "image/png": "[encoded data removed]",
      "text/plain": [
       "<Figure size 800x600 with 1 Axes>"
      ]
     },
     "metadata": {},
     "output_type": "display_data"
    }
   ],
   "source": [
    "from pymoo.visualization.scatter import Scatter\n",
    "\n",
    "F = res.F\n",
    "plot = Scatter(labels=['CO2 emissions (corrected) [Mton]', 'Cost [M DKK]']).add(F)\n",
    "plot.show()"
   ]
  },
  {
   "cell_type": "markdown",
   "metadata": {},
   "source": [
    "## Test the MOEA on the 4-objecitves case of the Giudicarie Esteriori"
   ]
  },
  {
   "cell_type": "code",
   "execution_count": 4,
   "metadata": {},
   "outputs": [],
   "source": [
    "import pickle\n",
    "import pandas as pd\n",
    "import plotly.express as px"
   ]
  },
  {
   "cell_type": "code",
   "execution_count": 12,
   "metadata": {},
   "outputs": [
    {
     "data": {
      "application/vnd.plotly.v1+json": {
       "config": {
        "plotlyServerURL": "https://plot.ly"
       },
       "data": [
        {
         "hovertemplate": "CO2 emissions (corrected) [Mton]=%{x}<br>Cost [M EUR]=%{y}<br>LFC=%{z}<br>ESD=%{marker.color}<extra></extra>",
         "legendgroup": "",
         "marker": {
          "color": [
           17.61955150369697,
           25.484656369321375,
           25.18122675491109,
           17.619198869238392,
           17.30727259391747,
           25.552818126540764,
           20.65586528622978,
           21.71009970000705,
           25.102922686005467,
           23.4711296378532,
           22.329966953029594,
           19.94239933791805,
           18.813566581647606,
           21.951696429523928,
           24.548339564854285,
           22.117207869291658,
           23.716660222546206,
           24.42120778281572,
           19.76736776332488,
           20.842319737484686,
           17.83664026635339,
           19.85103139749771,
           24.350304969546347,
           22.01071098775524,
           23.50165309874164,
           21.7544759309656,
           24.185329627093076,
           25.293657719698846,
           24.580738973600734,
           20.514756078588018,
           24.557291956136513,
           20.14350822833796,
           19.267835383274633,
           19.49355506748597,
           24.37732715185773,
           22.40100453936592,
           22.28760305681098,
           18.974729017173324,
           20.22811090426349,
           19.42034246217571,
           23.986822314032214,
           21.128721348403023,
           19.598089732678986,
           24.091949872065168,
           24.970888735582246,
           20.058904645845466,
           24.671576761849913,
           23.34384665493005,
           21.019298141506322,
           18.269375935497884,
           24.134139081080527,
           21.624146288877824,
           24.320737330139906,
           20.74121520263159,
           25.418240061897368,
           17.668847471533176,
           18.750712379535756,
           19.10878004966214,
           19.190852661936425,
           17.392425721069262,
           23.88354178134425,
           17.542052382131576,
           25.07246830383234,
           21.21930391645781,
           18.433726680273733,
           23.229498408073457,
           24.22541489684663,
           24.066233934629423,
           23.85849095992605,
           23.524882615344314,
           25.161018172052405,
           18.638053395566562,
           22.81273415510564,
           21.817183520978578,
           20.71949170210241,
           20.9669396595725,
           25.285485197996284,
           24.769170598524127,
           18.365601895704682,
           25.157168673121937,
           22.973996929468687,
           23.172043492315865,
           23.909713557928914,
           23.196889975654617,
           24.266399543695258,
           23.912991515486357,
           22.46486867994924,
           22.483042883924853,
           20.400842726193677,
           18.63028880959676,
           20.39923063876813,
           25.370950683438814,
           24.648238393062886,
           17.951337340874925,
           23.07776894409596,
           25.248031637077776,
           24.996099336907246,
           22.529743350612584,
           25.311194200155402,
           18.016331531289442
          ],
          "coloraxis": "coloraxis",
          "symbol": "circle"
         },
         "mode": "markers",
         "name": "",
         "scene": "scene",
         "showlegend": false,
         "type": "scatter3d",
         "x": [
          5.378,
          -20.508,
          -18.967,
          5.408,
          5.841,
          -20.669,
          -1.18,
          -4.113,
          -16.695,
          -10.413,
          -6.35,
          0.55,
          2.765,
          -4.61,
          -15.123,
          -5.571,
          -10.831,
          -14.465,
          0.986,
          -2.019,
          4.555,
          1.145,
          -14.021,
          -5.022,
          -10.038,
          -3.789,
          -12.698,
          -19.007,
          -14.803,
          -0.78,
          -15.626,
          0.223,
          1.921,
          1.756,
          -13.704,
          -5.939,
          -5.453,
          2.267,
          -0.17,
          1.421,
          -12.564,
          -2.519,
          1.25,
          -12.94,
          -17.324,
          0.332,
          -16.131,
          -9.598,
          -2.333,
          3.764,
          -12.209,
          -3.449,
          -13.46,
          -1.508,
          -20.118,
          4.788,
          3.247,
          2.184,
          2.153,
          5.664,
          -11.485,
          5.136,
          -18.613,
          -2.919,
          3.857,
          -9.36,
          -13.888,
          -12.872,
          -12.088,
          -10.805,
          -18.012,
          2.936,
          -7.293,
          -4.935,
          -1.572,
          -1.662,
          -17.823,
          -16.26,
          3.56,
          -18.413,
          -8.476,
          -8.286,
          -11.822,
          -9.005,
          -13.419,
          -11.988,
          -5.737,
          -6.763,
          -0.526,
          3.102,
          -0.708,
          -18.919,
          -16.101,
          4.314,
          -9.119,
          -19.387,
          -17.898,
          -6.795,
          -19.721,
          4.279
         ],
         "y": [
          7957.85073656834,
          16229.760357477855,
          31059.12831610915,
          8096.464453313375,
          10647.521264861463,
          28551.324196124573,
          18901.846165617528,
          18026.118485132323,
          12925.516069665577,
          19203.911897087353,
          13302.49749394643,
          8977.038278738839,
          9603.58180138556,
          9982.55126421581,
          22020.6682818563,
          24886.624557565592,
          19732.228865035107,
          20385.346196700062,
          10885.86179459982,
          9383.51367624617,
          17680.074227118195,
          23057.293297141794,
          21210.900510168158,
          23756.5527774085,
          11809.325093202406,
          24083.358784088854,
          16968.774243719283,
          30283.661621074556,
          27260.62715245034,
          9827.055196770787,
          12524.465701548419,
          18352.53792341739,
          10124.096702986133,
          11002.834094474701,
          19923.88025625804,
          13456.611606206106,
          24477.731907142395,
          10040.528163103294,
          22583.989065884838,
          9981.061679710327,
          12762.193179049798,
          10472.580962218062,
          8594.888746943001,
          26553.320505265856,
          20875.731625529603,
          11139.72338788071,
          21726.260382358974,
          19418.099412137242,
          11234.988790177467,
          25226.57978074593,
          14536.754029507632,
          14650.79307364437,
          23992.21552615094,
          20492.62762454541,
          29079.16135249746,
          8687.2729485659,
          8256.065145526763,
          26848.11857857918,
          10323.076927515065,
          8410.082281243163,
          11644.016859121744,
          23021.752355369557,
          29377.632959046925,
          11617.748870621452,
          20622.784904484157,
          16504.791127647637,
          15306.677894411814,
          22311.04315537453,
          20168.892839598993,
          12126.68029108959,
          15032.795468365732,
          13782.107827647636,
          23650.33938460599,
          12987.99193888019,
          18551.341591651384,
          18176.826301197296,
          27525.296084088855,
          15066.798453266183,
          8386.883814565812,
          26374.979771538587,
          25728.18363460026,
          14402.996864290537,
          16692.0051708476,
          14738.372658594297,
          14544.850868677659,
          17265.463762317762,
          25671.916237076057,
          17549.50723116599,
          9921.281495672014,
          21131.491448836277,
          9085.630734067545,
          28757.385454530406,
          13611.418554253441,
          12332.8763323808,
          10972.542991120652,
          14718.958916255382,
          14091.930209127764,
          13592.113594411814,
          19379.033098841923,
          10855.453201550037
         ],
         "z": [
          0.48087222647283856,
          2.1553585196607554,
          2.052043176561295,
          0.47801147227533464,
          0.5493128536782539,
          2.1341743119266057,
          0.8694486983154671,
          1.0546845124282984,
          1.8808250572956453,
          1.4754224270353304,
          1.202599388379205,
          0.7654037504783774,
          0.6388140161725068,
          1.0914307574598316,
          1.7834932821497118,
          1.1555555555555557,
          1.491214667685256,
          1.7552986512524085,
          0.7456780637725701,
          0.9330769230769231,
          0.5325375433192145,
          0.7295332823259373,
          1.716865155589704,
          1.112428298279159,
          1.4396024464831805,
          1.0370653419946505,
          1.6136797860145204,
          2.0260038240917786,
          1.7512418800152847,
          0.8500382555470543,
          1.7996175908221799,
          0.789272030651341,
          0.6760886172650878,
          0.687691131498471,
          1.6963531669865644,
          1.1760886172650877,
          1.1448776758409787,
          0.6527883880825057,
          0.8036669213139802,
          0.713791778716865,
          1.630300693909021,
          0.966218809980806,
          0.7150496562261268,
          1.6396776669224866,
          1.9143403441682603,
          0.7789674952198854,
          1.858407079646018,
          1.4217191097467383,
          0.958076923076923,
          0.5779745860608394,
          1.5870893812070284,
          1.0160550458715596,
          1.6683244070390206,
          0.8920780711825489,
          2.1295296838858904,
          0.5013374092472297,
          0.6001529051987767,
          0.6512605042016807,
          0.6597859327217125,
          0.5594179466451091,
          1.533231474407945,
          0.5869037995149555,
          1.9992348890589133,
          0.9881043745203377,
          0.5634071810542399,
          1.3935804356132977,
          1.7162683114880495,
          1.6497109826589598,
          1.5705544933078395,
          1.511753371868979,
          1.9705093833780163,
          0.6259630200308166,
          1.26585179526356,
          1.132046332046332,
          0.9050365244136871,
          0.9021406727828746,
          1.954528085594192,
          1.842507645259939,
          0.5701720841300192,
          2.000767754318618,
          1.3443251533742333,
          1.3355011476664114,
          1.5659003831417626,
          1.3746651358591657,
          1.662590752770348,
          1.5786646201074443,
          1.165456629728697,
          1.2416442566269688,
          0.8237093690248566,
          0.617397998460354,
          0.8508266051518648,
          2.0426431041106414,
          1.8288770053475938,
          0.5485736314572089,
          1.3957692307692307,
          2.084137398687765,
          1.9811102544333075,
          1.240875912408759,
          2.106136626785025,
          0.5439539347408829
         ]
        }
       ],
       "layout": {
        "coloraxis": {
         "colorbar": {
          "title": {
           "text": "ESD"
          }
         },
         "colorscale": [
          [
           0,
           "#0d0887"
          ],
          [
           0.1111111111111111,
           "#46039f"
          ],
          [
           0.2222222222222222,
           "#7201a8"
          ],
          [
           0.3333333333333333,
           "#9c179e"
          ],
          [
           0.4444444444444444,
           "#bd3786"
          ],
          [
           0.5555555555555556,
           "#d8576b"
          ],
          [
           0.6666666666666666,
           "#ed7953"
          ],
          [
           0.7777777777777778,
           "#fb9f3a"
          ],
          [
           0.8888888888888888,
           "#fdca26"
          ],
          [
           1,
           "#f0f921"
          ]
         ]
        },
        "height": 800,
        "legend": {
         "tracegroupgap": 0
        },
        "margin": {
         "t": 60
        },
        "scene": {
         "domain": {
          "x": [
           0,
           1
          ],
          "y": [
           0,
           1
          ]
         },
         "xaxis": {
          "title": {
           "text": "CO2 emissions (corrected) [Mton]"
          }
         },
         "yaxis": {
          "title": {
           "text": "Cost [M EUR]"
          }
         },
         "zaxis": {
          "title": {
           "text": "LFC"
          }
         }
        },
        "template": {
         "data": {
          "bar": [
           {
            "error_x": {
             "color": "#2a3f5f"
            },
            "error_y": {
             "color": "#2a3f5f"
            },
            "marker": {
             "line": {
              "color": "#E5ECF6",
              "width": 0.5
             },
             "pattern": {
              "fillmode": "overlay",
              "size": 10,
              "solidity": 0.2
             }
            },
            "type": "bar"
           }
          ],
          "barpolar": [
           {
            "marker": {
             "line": {
              "color": "#E5ECF6",
              "width": 0.5
             },
             "pattern": {
              "fillmode": "overlay",
              "size": 10,
              "solidity": 0.2
             }
            },
            "type": "barpolar"
           }
          ],
          "carpet": [
           {
            "aaxis": {
             "endlinecolor": "#2a3f5f",
             "gridcolor": "white",
             "linecolor": "white",
             "minorgridcolor": "white",
             "startlinecolor": "#2a3f5f"
            },
            "baxis": {
             "endlinecolor": "#2a3f5f",
             "gridcolor": "white",
             "linecolor": "white",
             "minorgridcolor": "white",
             "startlinecolor": "#2a3f5f"
            },
            "type": "carpet"
           }
          ],
          "choropleth": [
           {
            "colorbar": {
             "outlinewidth": 0,
             "ticks": ""
            },
            "type": "choropleth"
           }
          ],
          "contour": [
           {
            "colorbar": {
             "outlinewidth": 0,
             "ticks": ""
            },
            "colorscale": [
             [
              0,
              "#0d0887"
             ],
             [
              0.1111111111111111,
              "#46039f"
             ],
             [
              0.2222222222222222,
              "#7201a8"
             ],
             [
              0.3333333333333333,
              "#9c179e"
             ],
             [
              0.4444444444444444,
              "#bd3786"
             ],
             [
              0.5555555555555556,
              "#d8576b"
             ],
             [
              0.6666666666666666,
              "#ed7953"
             ],
             [
              0.7777777777777778,
              "#fb9f3a"
             ],
             [
              0.8888888888888888,
              "#fdca26"
             ],
             [
              1,
              "#f0f921"
             ]
            ],
            "type": "contour"
           }
          ],
          "contourcarpet": [
           {
            "colorbar": {
             "outlinewidth": 0,
             "ticks": ""
            },
            "type": "contourcarpet"
           }
          ],
          "heatmap": [
           {
            "colorbar": {
             "outlinewidth": 0,
             "ticks": ""
            },
            "colorscale": [
             [
              0,
              "#0d0887"
             ],
             [
              0.1111111111111111,
              "#46039f"
             ],
             [
              0.2222222222222222,
              "#7201a8"
             ],
             [
              0.3333333333333333,
              "#9c179e"
             ],
             [
              0.4444444444444444,
              "#bd3786"
             ],
             [
              0.5555555555555556,
              "#d8576b"
             ],
             [
              0.6666666666666666,
              "#ed7953"
             ],
             [
              0.7777777777777778,
              "#fb9f3a"
             ],
             [
              0.8888888888888888,
              "#fdca26"
             ],
             [
              1,
              "#f0f921"
             ]
            ],
            "type": "heatmap"
           }
          ],
          "heatmapgl": [
           {
            "colorbar": {
             "outlinewidth": 0,
             "ticks": ""
            },
            "colorscale": [
             [
              0,
              "#0d0887"
             ],
             [
              0.1111111111111111,
              "#46039f"
             ],
             [
              0.2222222222222222,
              "#7201a8"
             ],
             [
              0.3333333333333333,
              "#9c179e"
             ],
             [
              0.4444444444444444,
              "#bd3786"
             ],
             [
              0.5555555555555556,
              "#d8576b"
             ],
             [
              0.6666666666666666,
              "#ed7953"
             ],
             [
              0.7777777777777778,
              "#fb9f3a"
             ],
             [
              0.8888888888888888,
              "#fdca26"
             ],
             [
              1,
              "#f0f921"
             ]
            ],
            "type": "heatmapgl"
           }
          ],
          "histogram": [
           {
            "marker": {
             "pattern": {
              "fillmode": "overlay",
              "size": 10,
              "solidity": 0.2
             }
            },
            "type": "histogram"
           }
          ],
          "histogram2d": [
           {
            "colorbar": {
             "outlinewidth": 0,
             "ticks": ""
            },
            "colorscale": [
             [
              0,
              "#0d0887"
             ],
             [
              0.1111111111111111,
              "#46039f"
             ],
             [
              0.2222222222222222,
              "#7201a8"
             ],
             [
              0.3333333333333333,
              "#9c179e"
             ],
             [
              0.4444444444444444,
              "#bd3786"
             ],
             [
              0.5555555555555556,
              "#d8576b"
             ],
             [
              0.6666666666666666,
              "#ed7953"
             ],
             [
              0.7777777777777778,
              "#fb9f3a"
             ],
             [
              0.8888888888888888,
              "#fdca26"
             ],
             [
              1,
              "#f0f921"
             ]
            ],
            "type": "histogram2d"
           }
          ],
          "histogram2dcontour": [
           {
            "colorbar": {
             "outlinewidth": 0,
             "ticks": ""
            },
            "colorscale": [
             [
              0,
              "#0d0887"
             ],
             [
              0.1111111111111111,
              "#46039f"
             ],
             [
              0.2222222222222222,
              "#7201a8"
             ],
             [
              0.3333333333333333,
              "#9c179e"
             ],
             [
              0.4444444444444444,
              "#bd3786"
             ],
             [
              0.5555555555555556,
              "#d8576b"
             ],
             [
              0.6666666666666666,
              "#ed7953"
             ],
             [
              0.7777777777777778,
              "#fb9f3a"
             ],
             [
              0.8888888888888888,
              "#fdca26"
             ],
             [
              1,
              "#f0f921"
             ]
            ],
            "type": "histogram2dcontour"
           }
          ],
          "mesh3d": [
           {
            "colorbar": {
             "outlinewidth": 0,
             "ticks": ""
            },
            "type": "mesh3d"
           }
          ],
          "parcoords": [
           {
            "line": {
             "colorbar": {
              "outlinewidth": 0,
              "ticks": ""
             }
            },
            "type": "parcoords"
           }
          ],
          "pie": [
           {
            "automargin": true,
            "type": "pie"
           }
          ],
          "scatter": [
           {
            "fillpattern": {
             "fillmode": "overlay",
             "size": 10,
             "solidity": 0.2
            },
            "type": "scatter"
           }
          ],
          "scatter3d": [
           {
            "line": {
             "colorbar": {
              "outlinewidth": 0,
              "ticks": ""
             }
            },
            "marker": {
             "colorbar": {
              "outlinewidth": 0,
              "ticks": ""
             }
            },
            "type": "scatter3d"
           }
          ],
          "scattercarpet": [
           {
            "marker": {
             "colorbar": {
              "outlinewidth": 0,
              "ticks": ""
             }
            },
            "type": "scattercarpet"
           }
          ],
          "scattergeo": [
           {
            "marker": {
             "colorbar": {
              "outlinewidth": 0,
              "ticks": ""
             }
            },
            "type": "scattergeo"
           }
          ],
          "scattergl": [
           {
            "marker": {
             "colorbar": {
              "outlinewidth": 0,
              "ticks": ""
             }
            },
            "type": "scattergl"
           }
          ],
          "scattermapbox": [
           {
            "marker": {
             "colorbar": {
              "outlinewidth": 0,
              "ticks": ""
             }
            },
            "type": "scattermapbox"
           }
          ],
          "scatterpolar": [
           {
            "marker": {
             "colorbar": {
              "outlinewidth": 0,
              "ticks": ""
             }
            },
            "type": "scatterpolar"
           }
          ],
          "scatterpolargl": [
           {
            "marker": {
             "colorbar": {
              "outlinewidth": 0,
              "ticks": ""
             }
            },
            "type": "scatterpolargl"
           }
          ],
          "scatterternary": [
           {
            "marker": {
             "colorbar": {
              "outlinewidth": 0,
              "ticks": ""
             }
            },
            "type": "scatterternary"
           }
          ],
          "surface": [
           {
            "colorbar": {
             "outlinewidth": 0,
             "ticks": ""
            },
            "colorscale": [
             [
              0,
              "#0d0887"
             ],
             [
              0.1111111111111111,
              "#46039f"
             ],
             [
              0.2222222222222222,
              "#7201a8"
             ],
             [
              0.3333333333333333,
              "#9c179e"
             ],
             [
              0.4444444444444444,
              "#bd3786"
             ],
             [
              0.5555555555555556,
              "#d8576b"
             ],
             [
              0.6666666666666666,
              "#ed7953"
             ],
             [
              0.7777777777777778,
              "#fb9f3a"
             ],
             [
              0.8888888888888888,
              "#fdca26"
             ],
             [
              1,
              "#f0f921"
             ]
            ],
            "type": "surface"
           }
          ],
          "table": [
           {
            "cells": {
             "fill": {
              "color": "#EBF0F8"
             },
             "line": {
              "color": "white"
             }
            },
            "header": {
             "fill": {
              "color": "#C8D4E3"
             },
             "line": {
              "color": "white"
             }
            },
            "type": "table"
           }
          ]
         },
         "layout": {
          "annotationdefaults": {
           "arrowcolor": "#2a3f5f",
           "arrowhead": 0,
           "arrowwidth": 1
          },
          "autotypenumbers": "strict",
          "coloraxis": {
           "colorbar": {
            "outlinewidth": 0,
            "ticks": ""
           }
          },
          "colorscale": {
           "diverging": [
            [
             0,
             "#8e0152"
            ],
            [
             0.1,
             "#c51b7d"
            ],
            [
             0.2,
             "#de77ae"
            ],
            [
             0.3,
             "#f1b6da"
            ],
            [
             0.4,
             "#fde0ef"
            ],
            [
             0.5,
             "#f7f7f7"
            ],
            [
             0.6,
             "#e6f5d0"
            ],
            [
             0.7,
             "#b8e186"
            ],
            [
             0.8,
             "#7fbc41"
            ],
            [
             0.9,
             "#4d9221"
            ],
            [
             1,
             "#276419"
            ]
           ],
           "sequential": [
            [
             0,
             "#0d0887"
            ],
            [
             0.1111111111111111,
             "#46039f"
            ],
            [
             0.2222222222222222,
             "#7201a8"
            ],
            [
             0.3333333333333333,
             "#9c179e"
            ],
            [
             0.4444444444444444,
             "#bd3786"
            ],
            [
             0.5555555555555556,
             "#d8576b"
            ],
            [
             0.6666666666666666,
             "#ed7953"
            ],
            [
             0.7777777777777778,
             "#fb9f3a"
            ],
            [
             0.8888888888888888,
             "#fdca26"
            ],
            [
             1,
             "#f0f921"
            ]
           ],
           "sequentialminus": [
            [
             0,
             "#0d0887"
            ],
            [
             0.1111111111111111,
             "#46039f"
            ],
            [
             0.2222222222222222,
             "#7201a8"
            ],
            [
             0.3333333333333333,
             "#9c179e"
            ],
            [
             0.4444444444444444,
             "#bd3786"
            ],
            [
             0.5555555555555556,
             "#d8576b"
            ],
            [
             0.6666666666666666,
             "#ed7953"
            ],
            [
             0.7777777777777778,
             "#fb9f3a"
            ],
            [
             0.8888888888888888,
             "#fdca26"
            ],
            [
             1,
             "#f0f921"
            ]
           ]
          },
          "colorway": [
           "#636efa",
           "#EF553B",
           "#00cc96",
           "#ab63fa",
           "#FFA15A",
           "#19d3f3",
           "#FF6692",
           "#B6E880",
           "#FF97FF",
           "#FECB52"
          ],
          "font": {
           "color": "#2a3f5f"
          },
          "geo": {
           "bgcolor": "white",
           "lakecolor": "white",
           "landcolor": "#E5ECF6",
           "showlakes": true,
           "showland": true,
           "subunitcolor": "white"
          },
          "hoverlabel": {
           "align": "left"
          },
          "hovermode": "closest",
          "mapbox": {
           "style": "light"
          },
          "paper_bgcolor": "white",
          "plot_bgcolor": "#E5ECF6",
          "polar": {
           "angularaxis": {
            "gridcolor": "white",
            "linecolor": "white",
            "ticks": ""
           },
           "bgcolor": "#E5ECF6",
           "radialaxis": {
            "gridcolor": "white",
            "linecolor": "white",
            "ticks": ""
           }
          },
          "scene": {
           "xaxis": {
            "backgroundcolor": "#E5ECF6",
            "gridcolor": "white",
            "gridwidth": 2,
            "linecolor": "white",
            "showbackground": true,
            "ticks": "",
            "zerolinecolor": "white"
           },
           "yaxis": {
            "backgroundcolor": "#E5ECF6",
            "gridcolor": "white",
            "gridwidth": 2,
            "linecolor": "white",
            "showbackground": true,
            "ticks": "",
            "zerolinecolor": "white"
           },
           "zaxis": {
            "backgroundcolor": "#E5ECF6",
            "gridcolor": "white",
            "gridwidth": 2,
            "linecolor": "white",
            "showbackground": true,
            "ticks": "",
            "zerolinecolor": "white"
           }
          },
          "shapedefaults": {
           "line": {
            "color": "#2a3f5f"
           }
          },
          "ternary": {
           "aaxis": {
            "gridcolor": "white",
            "linecolor": "white",
            "ticks": ""
           },
           "baxis": {
            "gridcolor": "white",
            "linecolor": "white",
            "ticks": ""
           },
           "bgcolor": "#E5ECF6",
           "caxis": {
            "gridcolor": "white",
            "linecolor": "white",
            "ticks": ""
           }
          },
          "title": {
           "x": 0.05
          },
          "xaxis": {
           "automargin": true,
           "gridcolor": "white",
           "linecolor": "white",
           "ticks": "",
           "title": {
            "standoff": 15
           },
           "zerolinecolor": "white",
           "zerolinewidth": 2
          },
          "yaxis": {
           "automargin": true,
           "gridcolor": "white",
           "linecolor": "white",
           "ticks": "",
           "title": {
            "standoff": 15
           },
           "zerolinecolor": "white",
           "zerolinewidth": 2
          }
         }
        }
       }
      }
     },
     "metadata": {},
     "output_type": "display_data"
    }
   ],
   "source": [
    "res_path = '../results_giudicarie_BaseAlgorithm.pkl'\n",
    "\n",
    "with open(res_path, 'rb') as f:\n",
    "    results = pickle.load(f)\n",
    "\n",
    "# Extract the frontier\n",
    "F = results.F\n",
    "# Cast results to DataFrame\n",
    "df = pd.DataFrame(\n",
    "    F,\n",
    "    columns=[\n",
    "        'CO2 emissions (corrected) [Mton]',\n",
    "        'Cost [kEUR]',\n",
    "        'LFC',\n",
    "        'ESD'\n",
    "    ]\n",
    ") \n",
    "# Define plot\n",
    "fig = px.scatter_3d(\n",
    "    df,\n",
    "    x='CO2 emissions (corrected) [Mton]',\n",
    "    y='Cost [kEUR]',\n",
    "    z='LFC',\n",
    "    color='ESD',\n",
    "    height=800\n",
    ")\n",
    "# Show plot\n",
    "fig.show()\n"
   ]
  }
 ],
 "metadata": {
  "kernelspec": {
   "display_name": "moea",
   "language": "python",
   "name": "python3"
  },
  "language_info": {
   "codemirror_mode": {
    "name": "ipython",
    "version": 3
   },
   "file_extension": ".py",
   "mimetype": "text/x-python",
   "name": "python",
   "nbconvert_exporter": "python",
   "pygments_lexer": "ipython3",
   "version": "3.10.15"
  }
 },
 "nbformat": 4,
 "nbformat_minor": 2
}
